{
  "nbformat": 4,
  "nbformat_minor": 0,
  "metadata": {
    "kernelspec": {
      "display_name": "Python 3",
      "language": "python",
      "name": "python3"
    },
    "language_info": {
      "codemirror_mode": {
        "name": "ipython",
        "version": 3
      },
      "file_extension": ".py",
      "mimetype": "text/x-python",
      "name": "python",
      "nbconvert_exporter": "python",
      "pygments_lexer": "ipython3",
      "version": "3.7.3"
    },
    "colab": {
      "name": "homeshopping_latest.ipynb",
      "provenance": [],
      "include_colab_link": true
    }
  },
  "cells": [
    {
      "cell_type": "markdown",
      "metadata": {
        "id": "view-in-github",
        "colab_type": "text"
      },
      "source": [
        "<a href=\"https://colab.research.google.com/github/yonghyeokrhee/personalize/blob/master/homeshopping_latest.ipynb\" target=\"_parent\"><img src=\"https://colab.research.google.com/assets/colab-badge.svg\" alt=\"Open In Colab\"/></a>"
      ]
    },
    {
      "cell_type": "code",
      "metadata": {
        "id": "i-SPw6BLL31o",
        "colab_type": "code",
        "colab": {}
      },
      "source": [
        "from __future__ import print_function\n",
        "\n",
        "import boto3\n",
        "from decimal import Decimal\n",
        "import json\n",
        "import urllib\n",
        "import io\n",
        "from PIL import Image\n",
        "from PIL import ImageDraw\n",
        "from PIL import ImageFont\n",
        "%matplotlib inline\n",
        "from botocore.exceptions import ClientError"
      ],
      "execution_count": null,
      "outputs": []
    },
    {
      "cell_type": "code",
      "metadata": {
        "scrolled": true,
        "id": "TIwN82cvL31v",
        "colab_type": "code",
        "colab": {},
        "outputId": "8e0b5494-c667-492b-a8dd-297db3445b18"
      },
      "source": [
        "import json\n",
        "import numpy as np\n",
        "import pandas as pd\n",
        "import time\n",
        "import matplotlib.pyplot as plt \n",
        "%matplotlib inline\n",
        "import os\n",
        "os.getcwd()"
      ],
      "execution_count": null,
      "outputs": [
        {
          "output_type": "execute_result",
          "data": {
            "text/plain": [
              "'C:\\\\Users\\\\user\\\\Documents'"
            ]
          },
          "metadata": {
            "tags": []
          },
          "execution_count": 3
        }
      ]
    },
    {
      "cell_type": "code",
      "metadata": {
        "id": "MVagh3qML311",
        "colab_type": "code",
        "colab": {}
      },
      "source": [
        "from matplotlib import rc\n",
        "rc('font', family='AppleGothic')\n",
        "plt.rcParams['axes.unicode_minus'] = False"
      ],
      "execution_count": null,
      "outputs": []
    },
    {
      "cell_type": "code",
      "metadata": {
        "id": "8G2CA_qaL315",
        "colab_type": "code",
        "colab": {}
      },
      "source": [
        "personalize = boto3.client(service_name='personalize', endpoint_url='https://personalize.us-west-2.amazonaws.com', region_name='us-west-2')\n",
        "personalize_runtime = boto3.client(service_name='personalize-runtime', endpoint_url='https://personalize-runtime.us-west-2.amazonaws.com', region_name='us-west-2')"
      ],
      "execution_count": null,
      "outputs": []
    },
    {
      "cell_type": "code",
      "metadata": {
        "id": "JyJoFFxML31-",
        "colab_type": "code",
        "colab": {}
      },
      "source": [
        "files = ['20190613_1.csv','20190613_2.csv','20190613_3.csv',\n",
        "         '20190613_4.csv','20190613_5.csv']"
      ],
      "execution_count": null,
      "outputs": []
    },
    {
      "cell_type": "code",
      "metadata": {
        "id": "vpilYVQtL32C",
        "colab_type": "code",
        "colab": {}
      },
      "source": [
        "df = pd.DataFrame()\n",
        "for i in files:\n",
        "    temp = pd.read_csv(i)\n",
        "    df = pd.concat([df,temp])"
      ],
      "execution_count": null,
      "outputs": []
    },
    {
      "cell_type": "code",
      "metadata": {
        "id": "etDeDm9bL32G",
        "colab_type": "code",
        "colab": {}
      },
      "source": [
        "df.to_csv(\"raw_data_full.csv\")"
      ],
      "execution_count": null,
      "outputs": []
    },
    {
      "cell_type": "code",
      "metadata": {
        "id": "UcyrY79uL32L",
        "colab_type": "code",
        "colab": {},
        "outputId": "41cac6e4-aef2-4660-cf99-18cdc93121aa"
      },
      "source": [
        "s3 = boto3.Session().resource('s3')\n",
        "my_bucket = s3.Bucket('personalize-dsc')\n",
        "\n",
        "for my_bucket_object in my_bucket.objects.all():\n",
        "    print(my_bucket_object)"
      ],
      "execution_count": null,
      "outputs": [
        {
          "output_type": "stream",
          "text": [
            "s3.ObjectSummary(bucket_name='personalize-dsc', key='DEMO-movie-lens-100k.csv')\n",
            "s3.ObjectSummary(bucket_name='personalize-dsc', key='cartorzzim.csv')\n",
            "s3.ObjectSummary(bucket_name='personalize-dsc', key='raw_data.csv')\n"
          ],
          "name": "stdout"
        }
      ]
    },
    {
      "cell_type": "code",
      "metadata": {
        "id": "21fmXq5_L32P",
        "colab_type": "code",
        "colab": {},
        "outputId": "f2f899e0-794f-4bb9-a9d5-c2d4e66462cf"
      },
      "source": [
        "df = pd.read_csv('C:/Users/user/Downloads/raw_data.csv', index_col=0)"
      ],
      "execution_count": null,
      "outputs": [
        {
          "output_type": "stream",
          "text": [
            "C:\\Users\\user\\AppData\\Local\\Continuum\\anaconda3\\lib\\site-packages\\numpy\\lib\\arraysetops.py:569: FutureWarning: elementwise comparison failed; returning scalar instead, but in the future will perform elementwise comparison\n",
            "  mask |= (ar1 == a)\n"
          ],
          "name": "stderr"
        }
      ]
    },
    {
      "cell_type": "code",
      "metadata": {
        "id": "6JHx_8AfL32T",
        "colab_type": "code",
        "colab": {}
      },
      "source": [
        "zzim = pd.read_csv('cartorzzim.csv')"
      ],
      "execution_count": null,
      "outputs": []
    },
    {
      "cell_type": "code",
      "metadata": {
        "id": "OnN7aFGxL32X",
        "colab_type": "code",
        "colab": {},
        "outputId": "014fe1a3-7ac9-471c-859f-386bddf1dbed"
      },
      "source": [
        "zzim.head()"
      ],
      "execution_count": null,
      "outputs": [
        {
          "output_type": "execute_result",
          "data": {
            "text/html": [
              "<div>\n",
              "<style scoped>\n",
              "    .dataframe tbody tr th:only-of-type {\n",
              "        vertical-align: middle;\n",
              "    }\n",
              "\n",
              "    .dataframe tbody tr th {\n",
              "        vertical-align: top;\n",
              "    }\n",
              "\n",
              "    .dataframe thead th {\n",
              "        text-align: right;\n",
              "    }\n",
              "</style>\n",
              "<table border=\"1\" class=\"dataframe\">\n",
              "  <thead>\n",
              "    <tr style=\"text-align: right;\">\n",
              "      <th></th>\n",
              "      <th>TIMESTAMP</th>\n",
              "      <th>USER_ID</th>\n",
              "      <th>EVENT_TYPE</th>\n",
              "      <th>ITEM_ID</th>\n",
              "      <th>LGROUP_NAME</th>\n",
              "      <th>MGROUP_NAME</th>\n",
              "      <th>SGROUP_NAME</th>\n",
              "      <th>DGROUP_NAME</th>\n",
              "      <th>BRAND_NAME</th>\n",
              "      <th>BRAND_CODE</th>\n",
              "      <th>ITEM_NAME</th>\n",
              "      <th>ITEM_CODE</th>\n",
              "      <th>MD_NAME</th>\n",
              "      <th>MD_CODE</th>\n",
              "    </tr>\n",
              "  </thead>\n",
              "  <tbody>\n",
              "    <tr>\n",
              "      <th>0</th>\n",
              "      <td>2019/01/01 00:00</td>\n",
              "      <td>201701443671</td>\n",
              "      <td>cart</td>\n",
              "      <td>10049381</td>\n",
              "      <td>패션</td>\n",
              "      <td>여성의류</td>\n",
              "      <td>아우터</td>\n",
              "      <td>코트</td>\n",
              "      <td>요하넥스</td>\n",
              "      <td>1648</td>\n",
              "      <td>요하넥스_코트</td>\n",
              "      <td>54376</td>\n",
              "      <td>의류</td>\n",
              "      <td>11</td>\n",
              "    </tr>\n",
              "    <tr>\n",
              "      <th>1</th>\n",
              "      <td>2019/01/01 00:00</td>\n",
              "      <td>201701503299</td>\n",
              "      <td>zzim</td>\n",
              "      <td>10061085</td>\n",
              "      <td>리빙</td>\n",
              "      <td>건강/헬스</td>\n",
              "      <td>건강매트</td>\n",
              "      <td>안마매트</td>\n",
              "      <td>메디칼드림</td>\n",
              "      <td>144</td>\n",
              "      <td>메디칼드림_안마매트</td>\n",
              "      <td>1160</td>\n",
              "      <td>리빙</td>\n",
              "      <td>31</td>\n",
              "    </tr>\n",
              "    <tr>\n",
              "      <th>2</th>\n",
              "      <td>2019/01/01 00:01</td>\n",
              "      <td>201602306115</td>\n",
              "      <td>cart</td>\n",
              "      <td>10060946</td>\n",
              "      <td>패션</td>\n",
              "      <td>여성의류</td>\n",
              "      <td>하의</td>\n",
              "      <td>데님</td>\n",
              "      <td>비지트인뉴욕</td>\n",
              "      <td>1634</td>\n",
              "      <td>비지트인뉴욕_데님</td>\n",
              "      <td>101643</td>\n",
              "      <td>의류</td>\n",
              "      <td>11</td>\n",
              "    </tr>\n",
              "    <tr>\n",
              "      <th>3</th>\n",
              "      <td>2019/01/01 00:01</td>\n",
              "      <td>201602309528</td>\n",
              "      <td>cart</td>\n",
              "      <td>10058998</td>\n",
              "      <td>패션</td>\n",
              "      <td>언더웨어</td>\n",
              "      <td>여성속옷</td>\n",
              "      <td>양말/스타킹/레깅스</td>\n",
              "      <td>비비안</td>\n",
              "      <td>2483</td>\n",
              "      <td>비비안_양말/스타킹/레깅스</td>\n",
              "      <td>101424</td>\n",
              "      <td>온라인</td>\n",
              "      <td>61</td>\n",
              "    </tr>\n",
              "    <tr>\n",
              "      <th>4</th>\n",
              "      <td>2019/01/01 00:01</td>\n",
              "      <td>201811491154</td>\n",
              "      <td>cart</td>\n",
              "      <td>10053689</td>\n",
              "      <td>주방</td>\n",
              "      <td>주방가전</td>\n",
              "      <td>조리기</td>\n",
              "      <td>튀김기</td>\n",
              "      <td>일렉트로맨</td>\n",
              "      <td>1852</td>\n",
              "      <td>일렉트로맨_튀김기</td>\n",
              "      <td>82550</td>\n",
              "      <td>주방</td>\n",
              "      <td>21</td>\n",
              "    </tr>\n",
              "  </tbody>\n",
              "</table>\n",
              "</div>"
            ],
            "text/plain": [
              "          TIMESTAMP       USER_ID EVENT_TYPE   ITEM_ID LGROUP_NAME  \\\n",
              "0  2019/01/01 00:00  201701443671       cart  10049381          패션   \n",
              "1  2019/01/01 00:00  201701503299       zzim  10061085          리빙   \n",
              "2  2019/01/01 00:01  201602306115       cart  10060946          패션   \n",
              "3  2019/01/01 00:01  201602309528       cart  10058998          패션   \n",
              "4  2019/01/01 00:01  201811491154       cart  10053689          주방   \n",
              "\n",
              "  MGROUP_NAME SGROUP_NAME DGROUP_NAME BRAND_NAME  BRAND_CODE       ITEM_NAME  \\\n",
              "0        여성의류         아우터          코트       요하넥스        1648         요하넥스_코트   \n",
              "1       건강/헬스        건강매트        안마매트      메디칼드림         144      메디칼드림_안마매트   \n",
              "2        여성의류          하의          데님     비지트인뉴욕        1634       비지트인뉴욕_데님   \n",
              "3        언더웨어        여성속옷  양말/스타킹/레깅스        비비안        2483  비비안_양말/스타킹/레깅스   \n",
              "4        주방가전         조리기         튀김기      일렉트로맨        1852       일렉트로맨_튀김기   \n",
              "\n",
              "   ITEM_CODE MD_NAME  MD_CODE  \n",
              "0      54376      의류       11  \n",
              "1       1160      리빙       31  \n",
              "2     101643      의류       11  \n",
              "3     101424     온라인       61  \n",
              "4      82550      주방       21  "
            ]
          },
          "metadata": {
            "tags": []
          },
          "execution_count": 51
        }
      ]
    },
    {
      "cell_type": "code",
      "metadata": {
        "id": "0N1ntoSNL32b",
        "colab_type": "code",
        "colab": {}
      },
      "source": [
        "zzim.rename(columns={'YYYYMMDDHHMI':'TIMESTAMP','CUST_NO':'USER_ID','GOODS_CODE':'ITEM_ID'}, inplace=True)"
      ],
      "execution_count": null,
      "outputs": []
    },
    {
      "cell_type": "code",
      "metadata": {
        "id": "Tvw_u1k6L32e",
        "colab_type": "code",
        "colab": {}
      },
      "source": [
        "zzim.rename(columns={'C_OR_Z':'EVENT_TYPE'}, inplace=True)"
      ],
      "execution_count": null,
      "outputs": []
    },
    {
      "cell_type": "code",
      "metadata": {
        "id": "Ut5jAh6KL32h",
        "colab_type": "code",
        "colab": {}
      },
      "source": [
        "df_times = df[['FIRST_ORDER_DATE','LAST_ORDER_DATE','ORDER_DATE']]"
      ],
      "execution_count": null,
      "outputs": []
    },
    {
      "cell_type": "code",
      "metadata": {
        "id": "QAIx0kLpL32j",
        "colab_type": "code",
        "colab": {},
        "outputId": "9d2ed3ac-07ca-48e1-dc25-7b8aec1da6b8"
      },
      "source": [
        "df[['GOODS_NAME','SALE_PRICE','RSALE_AMT','CHANGE_RATE_AMT']].head()"
      ],
      "execution_count": null,
      "outputs": [
        {
          "output_type": "execute_result",
          "data": {
            "text/html": [
              "<div>\n",
              "<style scoped>\n",
              "    .dataframe tbody tr th:only-of-type {\n",
              "        vertical-align: middle;\n",
              "    }\n",
              "\n",
              "    .dataframe tbody tr th {\n",
              "        vertical-align: top;\n",
              "    }\n",
              "\n",
              "    .dataframe thead th {\n",
              "        text-align: right;\n",
              "    }\n",
              "</style>\n",
              "<table border=\"1\" class=\"dataframe\">\n",
              "  <thead>\n",
              "    <tr style=\"text-align: right;\">\n",
              "      <th></th>\n",
              "      <th>GOODS_NAME</th>\n",
              "      <th>SALE_PRICE</th>\n",
              "      <th>RSALE_AMT</th>\n",
              "      <th>CHANGE_RATE_AMT</th>\n",
              "    </tr>\n",
              "  </thead>\n",
              "  <tbody>\n",
              "    <tr>\n",
              "      <th>0</th>\n",
              "      <td>[반값딜] 카밀 핸드크림 클래식 1+1</td>\n",
              "      <td>8500</td>\n",
              "      <td>4250</td>\n",
              "      <td>3953</td>\n",
              "    </tr>\n",
              "    <tr>\n",
              "      <th>1</th>\n",
              "      <td>(홀리데이 구성) 엘렌실라 달팽이크림 50g*5개 + EGF크림 50g*5개 + 파...</td>\n",
              "      <td>79000</td>\n",
              "      <td>78000</td>\n",
              "      <td>63960</td>\n",
              "    </tr>\n",
              "    <tr>\n",
              "      <th>2</th>\n",
              "      <td>김나운 손질새우 140g(20미)/팩 x 13팩 (총 260미)</td>\n",
              "      <td>60900</td>\n",
              "      <td>59900</td>\n",
              "      <td>50915</td>\n",
              "    </tr>\n",
              "    <tr>\n",
              "      <th>3</th>\n",
              "      <td>백년의삶 동안석류즙 70ml*105포 (N035)</td>\n",
              "      <td>79900</td>\n",
              "      <td>78900</td>\n",
              "      <td>63909</td>\n",
              "    </tr>\n",
              "    <tr>\n",
              "      <th>4</th>\n",
              "      <td>(고객감사특가) 럭키샵 마르조 리버시블 항공점퍼 1+1</td>\n",
              "      <td>39800</td>\n",
              "      <td>38800</td>\n",
              "      <td>22504</td>\n",
              "    </tr>\n",
              "  </tbody>\n",
              "</table>\n",
              "</div>"
            ],
            "text/plain": [
              "                                          GOODS_NAME  SALE_PRICE  RSALE_AMT  \\\n",
              "0                              [반값딜] 카밀 핸드크림 클래식 1+1        8500       4250   \n",
              "1  (홀리데이 구성) 엘렌실라 달팽이크림 50g*5개 + EGF크림 50g*5개 + 파...       79000      78000   \n",
              "2                김나운 손질새우 140g(20미)/팩 x 13팩 (총 260미)       60900      59900   \n",
              "3                        백년의삶 동안석류즙 70ml*105포 (N035)       79900      78900   \n",
              "4                     (고객감사특가) 럭키샵 마르조 리버시블 항공점퍼 1+1       39800      38800   \n",
              "\n",
              "   CHANGE_RATE_AMT  \n",
              "0             3953  \n",
              "1            63960  \n",
              "2            50915  \n",
              "3            63909  \n",
              "4            22504  "
            ]
          },
          "metadata": {
            "tags": []
          },
          "execution_count": 32
        }
      ]
    },
    {
      "cell_type": "code",
      "metadata": {
        "id": "J7k1D-Y3L32l",
        "colab_type": "code",
        "colab": {},
        "outputId": "37f465d5-b7fd-4877-820c-a5ba361ba389"
      },
      "source": [
        "df[['SALE_PRICE','DC_ARS', 'DC_NOREST', 'DC_GOODS', 'DC_COUPON', 'DC_AMT_PARTNER',\n",
        "       'RSALE_AMT', 'CHANGE_RATE_AMT']].head()"
      ],
      "execution_count": null,
      "outputs": [
        {
          "output_type": "execute_result",
          "data": {
            "text/html": [
              "<div>\n",
              "<style scoped>\n",
              "    .dataframe tbody tr th:only-of-type {\n",
              "        vertical-align: middle;\n",
              "    }\n",
              "\n",
              "    .dataframe tbody tr th {\n",
              "        vertical-align: top;\n",
              "    }\n",
              "\n",
              "    .dataframe thead th {\n",
              "        text-align: right;\n",
              "    }\n",
              "</style>\n",
              "<table border=\"1\" class=\"dataframe\">\n",
              "  <thead>\n",
              "    <tr style=\"text-align: right;\">\n",
              "      <th></th>\n",
              "      <th>SALE_PRICE</th>\n",
              "      <th>DC_ARS</th>\n",
              "      <th>DC_NOREST</th>\n",
              "      <th>DC_GOODS</th>\n",
              "      <th>DC_COUPON</th>\n",
              "      <th>DC_AMT_PARTNER</th>\n",
              "      <th>RSALE_AMT</th>\n",
              "      <th>CHANGE_RATE_AMT</th>\n",
              "    </tr>\n",
              "  </thead>\n",
              "  <tbody>\n",
              "    <tr>\n",
              "      <th>0</th>\n",
              "      <td>8500</td>\n",
              "      <td>0</td>\n",
              "      <td>0</td>\n",
              "      <td>4250</td>\n",
              "      <td>0</td>\n",
              "      <td>0</td>\n",
              "      <td>4250</td>\n",
              "      <td>3953</td>\n",
              "    </tr>\n",
              "    <tr>\n",
              "      <th>1</th>\n",
              "      <td>79000</td>\n",
              "      <td>1000</td>\n",
              "      <td>0</td>\n",
              "      <td>0</td>\n",
              "      <td>0</td>\n",
              "      <td>0</td>\n",
              "      <td>78000</td>\n",
              "      <td>63960</td>\n",
              "    </tr>\n",
              "    <tr>\n",
              "      <th>2</th>\n",
              "      <td>60900</td>\n",
              "      <td>1000</td>\n",
              "      <td>0</td>\n",
              "      <td>0</td>\n",
              "      <td>0</td>\n",
              "      <td>0</td>\n",
              "      <td>59900</td>\n",
              "      <td>50915</td>\n",
              "    </tr>\n",
              "    <tr>\n",
              "      <th>3</th>\n",
              "      <td>79900</td>\n",
              "      <td>1000</td>\n",
              "      <td>0</td>\n",
              "      <td>0</td>\n",
              "      <td>0</td>\n",
              "      <td>0</td>\n",
              "      <td>78900</td>\n",
              "      <td>63909</td>\n",
              "    </tr>\n",
              "    <tr>\n",
              "      <th>4</th>\n",
              "      <td>39800</td>\n",
              "      <td>1000</td>\n",
              "      <td>0</td>\n",
              "      <td>0</td>\n",
              "      <td>0</td>\n",
              "      <td>0</td>\n",
              "      <td>38800</td>\n",
              "      <td>22504</td>\n",
              "    </tr>\n",
              "  </tbody>\n",
              "</table>\n",
              "</div>"
            ],
            "text/plain": [
              "   SALE_PRICE  DC_ARS  DC_NOREST  DC_GOODS  DC_COUPON  DC_AMT_PARTNER  \\\n",
              "0        8500       0          0      4250          0               0   \n",
              "1       79000    1000          0         0          0               0   \n",
              "2       60900    1000          0         0          0               0   \n",
              "3       79900    1000          0         0          0               0   \n",
              "4       39800    1000          0         0          0               0   \n",
              "\n",
              "   RSALE_AMT  CHANGE_RATE_AMT  \n",
              "0       4250             3953  \n",
              "1      78000            63960  \n",
              "2      59900            50915  \n",
              "3      78900            63909  \n",
              "4      38800            22504  "
            ]
          },
          "metadata": {
            "tags": []
          },
          "execution_count": 40
        }
      ]
    },
    {
      "cell_type": "code",
      "metadata": {
        "id": "wfa3XwtPL32n",
        "colab_type": "code",
        "colab": {}
      },
      "source": [
        "batch = df[['GOODS_CODE','GOODS_NAME','LGROUP_NAME', 'MGROUP_NAME',\n",
        "       'SGROUP_NAME', 'DGROUP_NAME', 'MD_CODE', 'MD_NAME', 'BRAND_CODE',\n",
        "       'BRAND_NAME', 'ITEM_CODE', 'ITEM_NAME', 'SALE_PRICE', 'SALE_GB',\n",
        "       'ORDER_DATE', '방송주문여부', 'ORDER_MEDIA',\n",
        "       'CUST_NO', 'BIRTHDAY', 'SEX', 'ADDR',\n",
        "       'CUST_GB_NM', 'WITHDRAWAL_YN', 'CUST_INSERT_DATE', 'INSERT_MEDIA',\n",
        "       'MEMB_GB', 'FIRST_ORDER_DATE', 'LAST_ORDER_DATE', 'SH_MAN_ID',\n",
        "       'SH_MAN_NAME', 'SH_SUB_ID', 'SH_SUB_NAME']].copy()"
      ],
      "execution_count": null,
      "outputs": []
    },
    {
      "cell_type": "code",
      "metadata": {
        "id": "A-SoccVWL32q",
        "colab_type": "code",
        "colab": {}
      },
      "source": [
        "users = batch[['CUST_NO','BIRTHDAY','SEX','ADDR','CUST_GB_NM','CUST_INSERT_DATE','FIRST_ORDER_DATE','LAST_ORDER_DATE']]"
      ],
      "execution_count": null,
      "outputs": []
    },
    {
      "cell_type": "code",
      "metadata": {
        "id": "N-SY-kPQL32u",
        "colab_type": "code",
        "colab": {}
      },
      "source": [
        "users.loc[:,'BIRTHDAY'] = pd.to_datetime(users.BIRTHDAY, format='%Y%m', errors='coerce')\n",
        "users.loc[:,'CUST_INSERT_DATE'] = pd.to_datetime(users.CUST_INSERT_DATE).dt.date\n",
        "users.loc[:,'FIRST_ORDER_DATE'] = pd.to_datetime(users.FIRST_ORDER_DATE).dt.date\n",
        "users.loc[:,'LAST_ORDER_DATE'] = pd.to_datetime(users.LAST_ORDER_DATE).dt.date"
      ],
      "execution_count": null,
      "outputs": []
    },
    {
      "cell_type": "code",
      "metadata": {
        "id": "NjBzNzIRL32x",
        "colab_type": "code",
        "colab": {},
        "outputId": "a400da9c-6f17-44ac-edee-4107fb648e80"
      },
      "source": [
        "users['age'] = users['BIRTHDAY'].apply(lambda x: now - x)"
      ],
      "execution_count": null,
      "outputs": [
        {
          "output_type": "stream",
          "text": [
            "C:\\Users\\user\\AppData\\Local\\Continuum\\anaconda3\\lib\\site-packages\\ipykernel_launcher.py:1: SettingWithCopyWarning: \n",
            "A value is trying to be set on a copy of a slice from a DataFrame.\n",
            "Try using .loc[row_indexer,col_indexer] = value instead\n",
            "\n",
            "See the caveats in the documentation: http://pandas.pydata.org/pandas-docs/stable/indexing.html#indexing-view-versus-copy\n",
            "  \"\"\"Entry point for launching an IPython kernel.\n"
          ],
          "name": "stderr"
        }
      ]
    },
    {
      "cell_type": "code",
      "metadata": {
        "collapsed": true,
        "id": "dJ-dfz9uL320",
        "colab_type": "code",
        "colab": {},
        "outputId": "e346fd07-7b18-46ba-f457-979d8a4461a7"
      },
      "source": [
        "#data overflow (memory out)\n",
        "now = pd.Timestamp('now')\n",
        "now - users.BIRTHDAY[:100]"
      ],
      "execution_count": null,
      "outputs": [
        {
          "output_type": "execute_result",
          "data": {
            "text/plain": [
              "0    14269 days 11:12:42.103263\n",
              "1    17983 days 11:12:42.103263\n",
              "2    20234 days 11:12:42.103263\n",
              "3    22913 days 11:12:42.103263\n",
              "4    19169 days 11:12:42.103263\n",
              "5    22913 days 11:12:42.103263\n",
              "6    19230 days 11:12:42.103263\n",
              "7    18988 days 11:12:42.103263\n",
              "8    19230 days 11:12:42.103263\n",
              "9    16734 days 11:12:42.103263\n",
              "10   20783 days 11:12:42.103263\n",
              "11   18591 days 11:12:42.103263\n",
              "12   20661 days 11:12:42.103263\n",
              "13   18713 days 11:12:42.103263\n",
              "14   24557 days 11:12:42.103263\n",
              "15   24557 days 11:12:42.103263\n",
              "16   21818 days 11:12:42.103263\n",
              "17   24557 days 11:12:42.103263\n",
              "18   21726 days 11:12:42.103263\n",
              "19   20144 days 11:12:42.103263\n",
              "20   20144 days 11:12:42.103263\n",
              "21   17465 days 11:12:42.103263\n",
              "22   23827 days 11:12:42.103263\n",
              "23   23827 days 11:12:42.103263\n",
              "24   23827 days 11:12:42.103263\n",
              "25   17861 days 11:12:42.103263\n",
              "26   23827 days 11:12:42.103263\n",
              "27   24954 days 11:12:42.103263\n",
              "28   21270 days 11:12:42.103263\n",
              "29   19444 days 11:12:42.103263\n",
              "                ...            \n",
              "70   25957 days 11:12:42.103263\n",
              "71   25957 days 11:12:42.103263\n",
              "72   25957 days 11:12:42.103263\n",
              "73   25957 days 11:12:42.103263\n",
              "74   22397 days 11:12:42.103263\n",
              "75   18226 days 11:12:42.103263\n",
              "76   19748 days 11:12:42.103263\n",
              "77   18226 days 11:12:42.103263\n",
              "78   27815 days 11:12:42.103263\n",
              "79   18560 days 11:12:42.103263\n",
              "80   22001 days 11:12:42.103263\n",
              "81   27815 days 11:12:42.103263\n",
              "82   16857 days 11:12:42.103263\n",
              "83   23917 days 11:12:42.103263\n",
              "84   22487 days 11:12:42.103263\n",
              "85   23917 days 11:12:42.103263\n",
              "86   23917 days 11:12:42.103263\n",
              "87   22244 days 11:12:42.103263\n",
              "88   26078 days 11:12:42.103263\n",
              "89   21421 days 11:12:42.103263\n",
              "90   22882 days 11:12:42.103263\n",
              "91   28027 days 11:12:42.103263\n",
              "92   25439 days 11:12:42.103263\n",
              "93   25439 days 11:12:42.103263\n",
              "94   25439 days 11:12:42.103263\n",
              "95   23066 days 11:12:42.103263\n",
              "96   21452 days 11:12:42.103263\n",
              "97   21452 days 11:12:42.103263\n",
              "98   17312 days 11:12:42.103263\n",
              "99   21971 days 11:12:42.103263\n",
              "Name: BIRTHDAY, Length: 100, dtype: timedelta64[ns]"
            ]
          },
          "metadata": {
            "tags": []
          },
          "execution_count": 67
        }
      ]
    },
    {
      "cell_type": "code",
      "metadata": {
        "scrolled": true,
        "id": "k3yVvw8XL322",
        "colab_type": "code",
        "colab": {},
        "outputId": "12ca91bd-277f-44cb-8e9a-c1176dbc377b"
      },
      "source": [
        "users['AGE'] = users['age'].apply(lambda x: np.round(x.days / 365))"
      ],
      "execution_count": null,
      "outputs": [
        {
          "output_type": "stream",
          "text": [
            "C:\\Users\\user\\AppData\\Local\\Continuum\\anaconda3\\lib\\site-packages\\ipykernel_launcher.py:1: SettingWithCopyWarning: \n",
            "A value is trying to be set on a copy of a slice from a DataFrame.\n",
            "Try using .loc[row_indexer,col_indexer] = value instead\n",
            "\n",
            "See the caveats in the documentation: http://pandas.pydata.org/pandas-docs/stable/indexing.html#indexing-view-versus-copy\n",
            "  \"\"\"Entry point for launching an IPython kernel.\n"
          ],
          "name": "stderr"
        }
      ]
    },
    {
      "cell_type": "code",
      "metadata": {
        "id": "xElMmkq_L324",
        "colab_type": "code",
        "colab": {}
      },
      "source": [
        "users.loc[:,'AGE'] = users['AGE'].where(users['AGE'] < 100, None)"
      ],
      "execution_count": null,
      "outputs": []
    },
    {
      "cell_type": "code",
      "metadata": {
        "id": "0kPnD_S4L326",
        "colab_type": "code",
        "colab": {}
      },
      "source": [
        "users.loc[:,'AGE'] = users['AGE'].where(users['AGE'] > 0, None)"
      ],
      "execution_count": null,
      "outputs": []
    },
    {
      "cell_type": "markdown",
      "metadata": {
        "id": "qSbwplwcL328",
        "colab_type": "text"
      },
      "source": [
        "### purchase frequency column is added"
      ]
    },
    {
      "cell_type": "code",
      "metadata": {
        "id": "XTxRdmx4L329",
        "colab_type": "code",
        "colab": {}
      },
      "source": [
        "pur_freq = users.groupby('CUST_NO').size().rename('freq')"
      ],
      "execution_count": null,
      "outputs": []
    },
    {
      "cell_type": "code",
      "metadata": {
        "id": "I3WNAlH8L33A",
        "colab_type": "code",
        "colab": {}
      },
      "source": [
        "users1 = users[['CUST_NO','AGE','SEX','ADDR','CUST_GB_NM']].set_index('CUST_NO').join(pur_freq).copy()"
      ],
      "execution_count": null,
      "outputs": []
    },
    {
      "cell_type": "code",
      "metadata": {
        "scrolled": true,
        "id": "R3UPJPksL33C",
        "colab_type": "code",
        "colab": {}
      },
      "source": [
        "#be careful with drop_duplicates()\n",
        "#USERS = users1.drop_duplicates().reset_index()"
      ],
      "execution_count": null,
      "outputs": []
    },
    {
      "cell_type": "code",
      "metadata": {
        "id": "UFt5aJmCL33F",
        "colab_type": "code",
        "colab": {}
      },
      "source": [
        "USERS = users1.reset_index().drop_duplicates(subset='CUST_NO')"
      ],
      "execution_count": null,
      "outputs": []
    },
    {
      "cell_type": "code",
      "metadata": {
        "id": "GfZZ6MIkL33H",
        "colab_type": "code",
        "colab": {},
        "outputId": "4668aa21-9b30-4f6e-ac8d-cc90281ecc71"
      },
      "source": [
        "plt.hist(USERS.AGE.dropna().to_list(),edgecolor='w')"
      ],
      "execution_count": null,
      "outputs": [
        {
          "output_type": "execute_result",
          "data": {
            "text/plain": [
              "(array([1.10000e+01, 2.74000e+03, 5.24630e+04, 2.00369e+05, 4.06068e+05,\n",
              "        6.86568e+05, 3.72770e+05, 8.00260e+04, 8.85500e+03, 3.05000e+02]),\n",
              " array([ 1. , 10.8, 20.6, 30.4, 40.2, 50. , 59.8, 69.6, 79.4, 89.2, 99. ]),\n",
              " <a list of 10 Patch objects>)"
            ]
          },
          "metadata": {
            "tags": []
          },
          "execution_count": 242
        },
        {
          "output_type": "display_data",
          "data": {
            "image/png": "[encoded data removed]",
            "text/plain": [
              "<Figure size 432x288 with 1 Axes>"
            ]
          },
          "metadata": {
            "tags": [],
            "needs_background": "light"
          }
        }
      ]
    },
    {
      "cell_type": "code",
      "metadata": {
        "id": "bVBfyLE7L33K",
        "colab_type": "code",
        "colab": {}
      },
      "source": [
        "USERS.rename(columns={'CUST_NO':'USER_ID'},inplace=True)"
      ],
      "execution_count": null,
      "outputs": []
    },
    {
      "cell_type": "code",
      "metadata": {
        "id": "W1Z76-vrL33M",
        "colab_type": "code",
        "colab": {}
      },
      "source": [
        "#USERS.SEX.astype('category')"
      ],
      "execution_count": null,
      "outputs": []
    },
    {
      "cell_type": "code",
      "metadata": {
        "id": "ZM7dt_iLL33O",
        "colab_type": "code",
        "colab": {}
      },
      "source": [
        "USERS.AGE.fillna(USERS.AGE.mean(), inplace=True)"
      ],
      "execution_count": null,
      "outputs": []
    },
    {
      "cell_type": "code",
      "metadata": {
        "id": "vqWYUEhLL33Q",
        "colab_type": "code",
        "colab": {}
      },
      "source": [
        "USERS.rename(columns={'CUST_GB_NM':'CUST_GB_NAME'}, inplace=True)"
      ],
      "execution_count": null,
      "outputs": []
    },
    {
      "cell_type": "code",
      "metadata": {
        "scrolled": true,
        "id": "AOobrIbxL33S",
        "colab_type": "code",
        "colab": {}
      },
      "source": [
        "USERS.loc[:,'AGE']=USERS.AGE.astype('int64')"
      ],
      "execution_count": null,
      "outputs": []
    },
    {
      "cell_type": "code",
      "metadata": {
        "id": "h6aJ9hSjL33V",
        "colab_type": "code",
        "colab": {}
      },
      "source": [
        "USERS.to_csv('user_age_sex_freq.csv')"
      ],
      "execution_count": null,
      "outputs": []
    },
    {
      "cell_type": "code",
      "metadata": {
        "id": "kJqw_oKOL33a",
        "colab_type": "code",
        "colab": {},
        "outputId": "a5af02ea-d467-456f-cd78-b5d50fc57d65"
      },
      "source": [
        "schema = {\n",
        "  \"type\": \"record\",\n",
        "  \"name\": \"Users\",\n",
        "  \"namespace\": \"com.amazonaws.personalize.schema\",\n",
        "  \"fields\": [\n",
        "      {\n",
        "          \"name\": \"USER_ID\",\n",
        "          \"type\": \"string\"\n",
        "      },\n",
        "      {\n",
        "          \"name\": \"AGE\",\n",
        "          \"type\": \"int\"\n",
        "      },\n",
        "      {\n",
        "          \"name\": \"SEX\",\n",
        "          \"type\": \"string\",\n",
        "          \"categorical\": True\n",
        "      },\n",
        "      {\n",
        "          \"name\": \"ADDR\",\n",
        "          \"type\": \"string\",\n",
        "          \"categorical\": True\n",
        "      },\n",
        "      {\n",
        "          \"name\": \"CUST_GB_NAME\",\n",
        "          \"type\": \"string\",\n",
        "          \"categorical\": True\n",
        "      },\n",
        "      {\n",
        "          \"name\": \"freq\",\n",
        "          \"type\": \"int\"\n",
        "      }\n",
        "  ],\n",
        "  \"version\": \"1.0\"\n",
        "}\n",
        "\n",
        "create_schema_response = personalize.create_schema(\n",
        "    name = \"users_age_sex_freq\",\n",
        "    schema = json.dumps(schema)\n",
        ")\n",
        "\n",
        "schema_arn = create_schema_response['schemaArn']\n",
        "print(json.dumps(create_schema_response, indent=2))"
      ],
      "execution_count": null,
      "outputs": [
        {
          "output_type": "stream",
          "text": [
            "{\n",
            "  \"schemaArn\": \"arn:aws:personalize:us-west-2:351072964306:schema/users_age_sex_freq\",\n",
            "  \"ResponseMetadata\": {\n",
            "    \"RequestId\": \"d42da348-efb2-42b1-821c-c428742fd90f\",\n",
            "    \"HTTPStatusCode\": 200,\n",
            "    \"HTTPHeaders\": {\n",
            "      \"content-type\": \"application/x-amz-json-1.1\",\n",
            "      \"date\": \"Wed, 26 Jun 2019 05:02:49 GMT\",\n",
            "      \"x-amzn-requestid\": \"d42da348-efb2-42b1-821c-c428742fd90f\",\n",
            "      \"content-length\": \"84\",\n",
            "      \"connection\": \"keep-alive\"\n",
            "    },\n",
            "    \"RetryAttempts\": 0\n",
            "  }\n",
            "}\n"
          ],
          "name": "stdout"
        }
      ]
    },
    {
      "cell_type": "code",
      "metadata": {
        "id": "drCK9r33L33c",
        "colab_type": "code",
        "colab": {},
        "outputId": "b94c645e-9209-421e-f621-292ba3c8ff1f"
      },
      "source": [
        "create_dataset_group_response = personalize.create_dataset_group(\n",
        "    name = \"hrnn_meta_second_event_type\"\n",
        ")\n",
        "\n",
        "dataset_group_arn = create_dataset_group_response['datasetGroupArn']\n",
        "print(json.dumps(create_dataset_group_response, indent=2))"
      ],
      "execution_count": null,
      "outputs": [
        {
          "output_type": "stream",
          "text": [
            "{\n",
            "  \"datasetGroupArn\": \"arn:aws:personalize:us-west-2:351072964306:dataset-group/hrnn_meta_second_event_type\",\n",
            "  \"ResponseMetadata\": {\n",
            "    \"RequestId\": \"418f67c4-5c45-45e7-88e9-d97a04493229\",\n",
            "    \"HTTPStatusCode\": 200,\n",
            "    \"HTTPHeaders\": {\n",
            "      \"content-type\": \"application/x-amz-json-1.1\",\n",
            "      \"date\": \"Thu, 27 Jun 2019 01:49:58 GMT\",\n",
            "      \"x-amzn-requestid\": \"418f67c4-5c45-45e7-88e9-d97a04493229\",\n",
            "      \"content-length\": \"106\",\n",
            "      \"connection\": \"keep-alive\"\n",
            "    },\n",
            "    \"RetryAttempts\": 0\n",
            "  }\n",
            "}\n"
          ],
          "name": "stdout"
        }
      ]
    },
    {
      "cell_type": "code",
      "metadata": {
        "id": "DZmpPURFL33e",
        "colab_type": "code",
        "colab": {},
        "outputId": "3e3c9b47-a661-44d0-ddd7-82bb3956855d"
      },
      "source": [
        "status = None\n",
        "max_time = time.time() + 3*60*60 # 3 hours\n",
        "while time.time() < max_time:\n",
        "    describe_dataset_group_response = personalize.describe_dataset_group(\n",
        "        datasetGroupArn = dataset_group_arn\n",
        "    )\n",
        "    status = describe_dataset_group_response[\"datasetGroup\"][\"status\"]\n",
        "    print(\"DatasetGroup: {}\".format(status))\n",
        "    \n",
        "    if status == \"ACTIVE\" or status == \"CREATE FAILED\":\n",
        "        break\n",
        "        \n",
        "    time.sleep(60)"
      ],
      "execution_count": null,
      "outputs": [
        {
          "output_type": "stream",
          "text": [
            "DatasetGroup: CREATE PENDING\n",
            "DatasetGroup: ACTIVE\n"
          ],
          "name": "stdout"
        }
      ]
    },
    {
      "cell_type": "code",
      "metadata": {
        "id": "5oMAMtFkL33g",
        "colab_type": "code",
        "colab": {},
        "outputId": "78201dc7-4865-4f85-aa9f-7245d3ed5cc1"
      },
      "source": [
        "dataset_type = \"USERS\"\n",
        "create_dataset_response = personalize.create_dataset(\n",
        "    name = \"users_age_sex_freq\",\n",
        "    datasetType = dataset_type,\n",
        "    datasetGroupArn = dataset_group_arn,\n",
        "    schemaArn = \"arn:aws:personalize:us-west-2:351072964306:schema/users_age_sex_freq\"\n",
        ")\n",
        "\n",
        "dataset_arn = create_dataset_response['datasetArn']\n",
        "print(json.dumps(create_dataset_response, indent=2))"
      ],
      "execution_count": null,
      "outputs": [
        {
          "output_type": "stream",
          "text": [
            "{\n",
            "  \"datasetArn\": \"arn:aws:personalize:us-west-2:351072964306:dataset/hrnn_meta_second_event_type/USERS\",\n",
            "  \"ResponseMetadata\": {\n",
            "    \"RequestId\": \"675373c4-1d00-48ab-9b57-fb5a86b9adad\",\n",
            "    \"HTTPStatusCode\": 200,\n",
            "    \"HTTPHeaders\": {\n",
            "      \"content-type\": \"application/x-amz-json-1.1\",\n",
            "      \"date\": \"Thu, 27 Jun 2019 01:50:39 GMT\",\n",
            "      \"x-amzn-requestid\": \"675373c4-1d00-48ab-9b57-fb5a86b9adad\",\n",
            "      \"content-length\": \"101\",\n",
            "      \"connection\": \"keep-alive\"\n",
            "    },\n",
            "    \"RetryAttempts\": 0\n",
            "  }\n",
            "}\n"
          ],
          "name": "stdout"
        }
      ]
    },
    {
      "cell_type": "code",
      "metadata": {
        "id": "1n4wRiGiL33i",
        "colab_type": "code",
        "colab": {}
      },
      "source": [
        "role_arn = \"arn:aws:iam::351072964306:role/PersonalizeS3Role\""
      ],
      "execution_count": null,
      "outputs": []
    },
    {
      "cell_type": "code",
      "metadata": {
        "id": "1Kl5UQoOL33k",
        "colab_type": "code",
        "colab": {}
      },
      "source": [
        "bucket = 'personalize-dsc'"
      ],
      "execution_count": null,
      "outputs": []
    },
    {
      "cell_type": "code",
      "metadata": {
        "id": "h9aiZDAOL33n",
        "colab_type": "code",
        "colab": {}
      },
      "source": [
        "filename = 'user_age_sex_freq.csv'"
      ],
      "execution_count": null,
      "outputs": []
    },
    {
      "cell_type": "code",
      "metadata": {
        "id": "exFYGw4xL33p",
        "colab_type": "code",
        "colab": {},
        "outputId": "7c219992-13ee-471a-d19c-a30fbc3a7c20"
      },
      "source": [
        "USERS.info()"
      ],
      "execution_count": null,
      "outputs": [
        {
          "output_type": "stream",
          "text": [
            "<class 'pandas.core.frame.DataFrame'>\n",
            "Int64Index: 2170315 entries, 0 to 3448759\n",
            "Data columns (total 6 columns):\n",
            "USER_ID         int64\n",
            "AGE             int64\n",
            "SEX             object\n",
            "ADDR            object\n",
            "CUST_GB_NAME    object\n",
            "freq            int64\n",
            "dtypes: int64(3), object(3)\n",
            "memory usage: 115.9+ MB\n"
          ],
          "name": "stdout"
        }
      ]
    },
    {
      "cell_type": "code",
      "metadata": {
        "scrolled": true,
        "id": "kUOlzxYLL33r",
        "colab_type": "code",
        "colab": {}
      },
      "source": [
        "boto3.Session().resource('s3').Bucket(bucket).Object(filename).upload_file(filename)"
      ],
      "execution_count": null,
      "outputs": []
    },
    {
      "cell_type": "code",
      "metadata": {
        "scrolled": true,
        "id": "ADZieDKML33u",
        "colab_type": "code",
        "colab": {},
        "outputId": "072ea6bd-b9e8-48c7-fa83-29ada0948766"
      },
      "source": [
        "create_dataset_import_job_response = personalize.create_dataset_import_job(\n",
        "    jobName = \"user-import-job-3\",\n",
        "    datasetArn = \"arn:aws:personalize:us-west-2:351072964306:dataset/hrnn_meta_second_event_type/USERS\",\n",
        "    dataSource = {\n",
        "        \"dataLocation\": \"s3://{}/{}\".format(bucket, 'user_age_sex_freq.csv')\n",
        "    },\n",
        "    roleArn = role_arn\n",
        ")\n",
        "\n",
        "dataset_import_job_arn = create_dataset_import_job_response['datasetImportJobArn']\n",
        "print(json.dumps(create_dataset_import_job_response, indent=2))"
      ],
      "execution_count": null,
      "outputs": [
        {
          "output_type": "stream",
          "text": [
            "{\n",
            "  \"datasetImportJobArn\": \"arn:aws:personalize:us-west-2:351072964306:dataset-import-job/user-import-job-3\",\n",
            "  \"ResponseMetadata\": {\n",
            "    \"RequestId\": \"e753774d-4111-49ea-bd25-332253a9369f\",\n",
            "    \"HTTPStatusCode\": 200,\n",
            "    \"HTTPHeaders\": {\n",
            "      \"content-type\": \"application/x-amz-json-1.1\",\n",
            "      \"date\": \"Thu, 27 Jun 2019 01:52:47 GMT\",\n",
            "      \"x-amzn-requestid\": \"e753774d-4111-49ea-bd25-332253a9369f\",\n",
            "      \"content-length\": \"105\",\n",
            "      \"connection\": \"keep-alive\"\n",
            "    },\n",
            "    \"RetryAttempts\": 0\n",
            "  }\n",
            "}\n"
          ],
          "name": "stdout"
        }
      ]
    },
    {
      "cell_type": "markdown",
      "metadata": {
        "id": "be2S4hVkL33x",
        "colab_type": "text"
      },
      "source": [
        "### INTERACTIONS"
      ]
    },
    {
      "cell_type": "markdown",
      "metadata": {
        "id": "tb6NZnw7L33y",
        "colab_type": "text"
      },
      "source": [
        "1. no cart data"
      ]
    },
    {
      "cell_type": "code",
      "metadata": {
        "id": "YkwS0Ri0L33y",
        "colab_type": "code",
        "colab": {},
        "outputId": "562b8152-fc24-449e-98b8-049c2a964b56"
      },
      "source": [
        "schema = {\n",
        "    \"type\": \"record\",\n",
        "    \"name\": \"Interactions\",\n",
        "    \"namespace\": \"com.amazonaws.personalize.schema\",\n",
        "    \"fields\": [\n",
        "        {\n",
        "            \"name\": \"USER_ID\",\n",
        "            \"type\": \"string\"\n",
        "        },\n",
        "        {\n",
        "            \"name\": \"ITEM_ID\",\n",
        "            \"type\": \"string\"\n",
        "        },\n",
        "        {\n",
        "            \"name\": \"TIMESTAMP\",\n",
        "            \"type\": \"long\"\n",
        "        }\n",
        "    ],\n",
        "    \"version\": \"1.0\"\n",
        "}\n",
        "\n",
        "create_schema_response = personalize.create_schema(\n",
        "    name = \"interactions\",\n",
        "    schema = json.dumps(schema)\n",
        ")\n",
        "\n",
        "schema_arn = create_schema_response['schemaArn']\n",
        "print(json.dumps(create_schema_response, indent=2))"
      ],
      "execution_count": null,
      "outputs": [
        {
          "output_type": "stream",
          "text": [
            "{\n",
            "  \"schemaArn\": \"arn:aws:personalize:us-west-2:351072964306:schema/interactions\",\n",
            "  \"ResponseMetadata\": {\n",
            "    \"RequestId\": \"b49bc9e2-19c1-4388-b7f5-dd40eca039d7\",\n",
            "    \"HTTPStatusCode\": 200,\n",
            "    \"HTTPHeaders\": {\n",
            "      \"content-type\": \"application/x-amz-json-1.1\",\n",
            "      \"date\": \"Wed, 26 Jun 2019 05:24:20 GMT\",\n",
            "      \"x-amzn-requestid\": \"b49bc9e2-19c1-4388-b7f5-dd40eca039d7\",\n",
            "      \"content-length\": \"78\",\n",
            "      \"connection\": \"keep-alive\"\n",
            "    },\n",
            "    \"RetryAttempts\": 0\n",
            "  }\n",
            "}\n"
          ],
          "name": "stdout"
        }
      ]
    },
    {
      "cell_type": "markdown",
      "metadata": {
        "id": "Q-I9FPfRL331",
        "colab_type": "text"
      },
      "source": [
        "2. Cart Data"
      ]
    },
    {
      "cell_type": "code",
      "metadata": {
        "id": "7y4vWGwAL332",
        "colab_type": "code",
        "colab": {},
        "outputId": "94f28923-e5e4-4aae-dc1d-ce4ff4166086"
      },
      "source": [
        "schema = {\n",
        "    \"type\": \"record\",\n",
        "    \"name\": \"Interactions\",\n",
        "    \"namespace\": \"com.amazonaws.personalize.schema\",\n",
        "    \"fields\": [\n",
        "        {\n",
        "            \"name\": \"USER_ID\",\n",
        "            \"type\": \"string\"\n",
        "        },\n",
        "        {\n",
        "            \"name\": \"ITEM_ID\",\n",
        "            \"type\": \"string\"\n",
        "        },\n",
        "        {\n",
        "            \"name\": \"TIMESTAMP\",\n",
        "            \"type\": \"long\"\n",
        "        },\n",
        "        {\n",
        "            \"name\": \"EVENT_TYPE\",\n",
        "            \"type\": \"string\",\n",
        "            \"categorical\": True\n",
        "        }\n",
        "    ],\n",
        "    \"version\": \"1.0\"\n",
        "}\n",
        "\n",
        "create_schema_response = personalize.create_schema(\n",
        "    name = \"interactions-event-type\",\n",
        "    schema = json.dumps(schema)\n",
        ")\n",
        "\n",
        "schema_arn = create_schema_response['schemaArn']\n",
        "print(json.dumps(create_schema_response, indent=2))"
      ],
      "execution_count": null,
      "outputs": [
        {
          "output_type": "stream",
          "text": [
            "{\n",
            "  \"schemaArn\": \"arn:aws:personalize:us-west-2:351072964306:schema/interactions-event-type\",\n",
            "  \"ResponseMetadata\": {\n",
            "    \"RequestId\": \"3b335abc-157f-4919-b1b3-dc419f3bea9d\",\n",
            "    \"HTTPStatusCode\": 200,\n",
            "    \"HTTPHeaders\": {\n",
            "      \"content-type\": \"application/x-amz-json-1.1\",\n",
            "      \"date\": \"Thu, 27 Jun 2019 01:48:40 GMT\",\n",
            "      \"x-amzn-requestid\": \"3b335abc-157f-4919-b1b3-dc419f3bea9d\",\n",
            "      \"content-length\": \"89\",\n",
            "      \"connection\": \"keep-alive\"\n",
            "    },\n",
            "    \"RetryAttempts\": 0\n",
            "  }\n",
            "}\n"
          ],
          "name": "stdout"
        }
      ]
    },
    {
      "cell_type": "code",
      "metadata": {
        "id": "P4rPMC9fL334",
        "colab_type": "code",
        "colab": {},
        "outputId": "0767ed11-3d87-4b27-9cb7-4b4b1aced3cb"
      },
      "source": [
        "df[['GOODS_CODE','CUST_NO','ORDER_DATE']].head()"
      ],
      "execution_count": null,
      "outputs": [
        {
          "output_type": "execute_result",
          "data": {
            "text/html": [
              "<div>\n",
              "<style scoped>\n",
              "    .dataframe tbody tr th:only-of-type {\n",
              "        vertical-align: middle;\n",
              "    }\n",
              "\n",
              "    .dataframe tbody tr th {\n",
              "        vertical-align: top;\n",
              "    }\n",
              "\n",
              "    .dataframe thead th {\n",
              "        text-align: right;\n",
              "    }\n",
              "</style>\n",
              "<table border=\"1\" class=\"dataframe\">\n",
              "  <thead>\n",
              "    <tr style=\"text-align: right;\">\n",
              "      <th></th>\n",
              "      <th>GOODS_CODE</th>\n",
              "      <th>CUST_NO</th>\n",
              "      <th>ORDER_DATE</th>\n",
              "    </tr>\n",
              "  </thead>\n",
              "  <tbody>\n",
              "    <tr>\n",
              "      <th>0</th>\n",
              "      <td>10060956</td>\n",
              "      <td>201611266992</td>\n",
              "      <td>2019/01/14 11:47</td>\n",
              "    </tr>\n",
              "    <tr>\n",
              "      <th>1</th>\n",
              "      <td>10056895</td>\n",
              "      <td>201608923519</td>\n",
              "      <td>2019/01/21 20:07</td>\n",
              "    </tr>\n",
              "    <tr>\n",
              "      <th>2</th>\n",
              "      <td>10062781</td>\n",
              "      <td>201601299917</td>\n",
              "      <td>2019/01/18 17:23</td>\n",
              "    </tr>\n",
              "    <tr>\n",
              "      <th>3</th>\n",
              "      <td>10050745</td>\n",
              "      <td>201605742571</td>\n",
              "      <td>2019/01/16 23:23</td>\n",
              "    </tr>\n",
              "    <tr>\n",
              "      <th>4</th>\n",
              "      <td>10050867</td>\n",
              "      <td>201601282310</td>\n",
              "      <td>2019/01/28 22:25</td>\n",
              "    </tr>\n",
              "  </tbody>\n",
              "</table>\n",
              "</div>"
            ],
            "text/plain": [
              "   GOODS_CODE       CUST_NO        ORDER_DATE\n",
              "0    10060956  201611266992  2019/01/14 11:47\n",
              "1    10056895  201608923519  2019/01/21 20:07\n",
              "2    10062781  201601299917  2019/01/18 17:23\n",
              "3    10050745  201605742571  2019/01/16 23:23\n",
              "4    10050867  201601282310  2019/01/28 22:25"
            ]
          },
          "metadata": {
            "tags": []
          },
          "execution_count": 274
        }
      ]
    },
    {
      "cell_type": "code",
      "metadata": {
        "id": "ceNFAaCRL336",
        "colab_type": "code",
        "colab": {}
      },
      "source": [
        "z = zzim[['USER_ID','ITEM_ID','TIMESTAMP','EVENT_TYPE']][zzim.USER_ID.isin(USERS.USER_ID)]"
      ],
      "execution_count": null,
      "outputs": []
    },
    {
      "cell_type": "code",
      "metadata": {
        "id": "7BU_zO9nL339",
        "colab_type": "code",
        "colab": {}
      },
      "source": [
        "inter = df[['CUST_NO','GOODS_CODE','ORDER_DATE']].copy()"
      ],
      "execution_count": null,
      "outputs": []
    },
    {
      "cell_type": "code",
      "metadata": {
        "id": "AA5D6V5nL34A",
        "colab_type": "code",
        "colab": {}
      },
      "source": [
        "inter.rename(columns = {'CUST_NO':'USER_ID','GOODS_CODE':'ITEM_ID','ORDER_DATE':'TIMESTAMP'},inplace=True)"
      ],
      "execution_count": null,
      "outputs": []
    },
    {
      "cell_type": "code",
      "metadata": {
        "id": "laLdrttwL34E",
        "colab_type": "code",
        "colab": {}
      },
      "source": [
        "inter['EVENT_TYPE'] = 'sale'"
      ],
      "execution_count": null,
      "outputs": []
    },
    {
      "cell_type": "code",
      "metadata": {
        "id": "E_UF_URgL34G",
        "colab_type": "code",
        "colab": {}
      },
      "source": [
        "interaction = pd.concat([inter,z], axis=0)"
      ],
      "execution_count": null,
      "outputs": []
    },
    {
      "cell_type": "code",
      "metadata": {
        "id": "40SB4rXPL34I",
        "colab_type": "code",
        "colab": {}
      },
      "source": [
        "interaction.loc[:,'TIMESTAMP'] = pd.to_datetime(interaction.TIMESTAMP).astype('int64')"
      ],
      "execution_count": null,
      "outputs": []
    },
    {
      "cell_type": "code",
      "metadata": {
        "id": "vg9iduuFL34L",
        "colab_type": "code",
        "colab": {}
      },
      "source": [
        "interaction.to_csv('interactions.csv')"
      ],
      "execution_count": null,
      "outputs": []
    },
    {
      "cell_type": "code",
      "metadata": {
        "scrolled": true,
        "id": "TXsaTyaEL34M",
        "colab_type": "code",
        "colab": {},
        "outputId": "c2846b9e-3aca-425b-ac91-22ae49d84192"
      },
      "source": [
        "dataset_type = \"INTERACTIONS\"\n",
        "create_dataset_response = personalize.create_dataset(\n",
        "    name = \"zzim_and_sale\",\n",
        "    datasetType = dataset_type,\n",
        "    datasetGroupArn = dataset_group_arn,\n",
        "    schemaArn = \"arn:aws:personalize:us-west-2:351072964306:schema/interactions-event-type\"\n",
        ")\n",
        "\n",
        "dataset_arn = create_dataset_response['datasetArn']\n",
        "print(json.dumps(create_dataset_response, indent=2))"
      ],
      "execution_count": null,
      "outputs": [
        {
          "output_type": "stream",
          "text": [
            "{\n",
            "  \"datasetArn\": \"arn:aws:personalize:us-west-2:351072964306:dataset/hrnn_meta_second_event_type/INTERACTIONS\",\n",
            "  \"ResponseMetadata\": {\n",
            "    \"RequestId\": \"3d80a1c1-4472-4fe7-ab67-262c668f87c0\",\n",
            "    \"HTTPStatusCode\": 200,\n",
            "    \"HTTPHeaders\": {\n",
            "      \"content-type\": \"application/x-amz-json-1.1\",\n",
            "      \"date\": \"Thu, 27 Jun 2019 01:51:11 GMT\",\n",
            "      \"x-amzn-requestid\": \"3d80a1c1-4472-4fe7-ab67-262c668f87c0\",\n",
            "      \"content-length\": \"108\",\n",
            "      \"connection\": \"keep-alive\"\n",
            "    },\n",
            "    \"RetryAttempts\": 0\n",
            "  }\n",
            "}\n"
          ],
          "name": "stdout"
        }
      ]
    },
    {
      "cell_type": "code",
      "metadata": {
        "id": "3GO0kTIvL34P",
        "colab_type": "code",
        "colab": {}
      },
      "source": [
        "filename = 'interactions.csv'"
      ],
      "execution_count": null,
      "outputs": []
    },
    {
      "cell_type": "code",
      "metadata": {
        "id": "S_5fQ9hUL34R",
        "colab_type": "code",
        "colab": {}
      },
      "source": [
        "boto3.Session().resource('s3').Bucket(bucket).Object(filename).upload_file(filename)"
      ],
      "execution_count": null,
      "outputs": []
    },
    {
      "cell_type": "code",
      "metadata": {
        "scrolled": true,
        "id": "I7BS2sx-L34T",
        "colab_type": "code",
        "colab": {},
        "outputId": "6ebfa54e-19b3-4858-b31c-ac1c5c75f51e"
      },
      "source": [
        "create_dataset_import_job_response = personalize.create_dataset_import_job(\n",
        "    jobName = \"interaction-import-job2\",\n",
        "    datasetArn = \"arn:aws:personalize:us-west-2:351072964306:dataset/hrnn_meta_second_event_type/INTERACTIONS\",\n",
        "    dataSource = {\n",
        "        \"dataLocation\": \"s3://{}/{}\".format(bucket, 'interactions.csv')\n",
        "    },\n",
        "    roleArn = role_arn\n",
        ")\n",
        "\n",
        "dataset_import_job_arn = create_dataset_import_job_response['datasetImportJobArn']\n",
        "print(json.dumps(create_dataset_import_job_response, indent=2))"
      ],
      "execution_count": null,
      "outputs": [
        {
          "output_type": "stream",
          "text": [
            "{\n",
            "  \"datasetImportJobArn\": \"arn:aws:personalize:us-west-2:351072964306:dataset-import-job/interaction-import-job2\",\n",
            "  \"ResponseMetadata\": {\n",
            "    \"RequestId\": \"f632cc0e-c863-43cc-bdd2-ce3c5db0648c\",\n",
            "    \"HTTPStatusCode\": 200,\n",
            "    \"HTTPHeaders\": {\n",
            "      \"content-type\": \"application/x-amz-json-1.1\",\n",
            "      \"date\": \"Thu, 27 Jun 2019 01:54:11 GMT\",\n",
            "      \"x-amzn-requestid\": \"f632cc0e-c863-43cc-bdd2-ce3c5db0648c\",\n",
            "      \"content-length\": \"111\",\n",
            "      \"connection\": \"keep-alive\"\n",
            "    },\n",
            "    \"RetryAttempts\": 0\n",
            "  }\n",
            "}\n"
          ],
          "name": "stdout"
        }
      ]
    },
    {
      "cell_type": "markdown",
      "metadata": {
        "id": "jaRii9_TL34V",
        "colab_type": "text"
      },
      "source": [
        "### ITEM meta data"
      ]
    },
    {
      "cell_type": "code",
      "metadata": {
        "id": "BxfIW1TcL34V",
        "colab_type": "code",
        "colab": {}
      },
      "source": [
        "items = df[['GOODS_CODE', 'LGROUP_NAME', 'MGROUP_NAME',\n",
        "       'SGROUP_NAME', 'DGROUP_NAME', 'MD_CODE', 'BRAND_CODE',\n",
        "       'ITEM_CODE', 'SALE_PRICE', 'SALE_GB','SH_MAN_ID',\n",
        "       'SH_SUB_ID']].rename(columns={'GOODS_CODE':'ITEM_ID'})"
      ],
      "execution_count": null,
      "outputs": []
    },
    {
      "cell_type": "code",
      "metadata": {
        "scrolled": true,
        "id": "wAP9u_A7L34X",
        "colab_type": "code",
        "colab": {}
      },
      "source": [
        "items.loc[:,'SH_MAN_ID'] = items.SH_MAN_ID.fillna('SSG')\n",
        "items.loc[:,'SH_SUB_ID'] = items.SH_SUB_ID.fillna('SSG')"
      ],
      "execution_count": null,
      "outputs": []
    },
    {
      "cell_type": "code",
      "metadata": {
        "id": "whi3hJP-L34Y",
        "colab_type": "code",
        "colab": {}
      },
      "source": [
        "items.to_csv('items_all.csv')"
      ],
      "execution_count": null,
      "outputs": []
    },
    {
      "cell_type": "code",
      "metadata": {
        "id": "JOGHvjtFL34a",
        "colab_type": "code",
        "colab": {}
      },
      "source": [
        "items[['ITEM_ID', 'LGROUP_NAME', 'MGROUP_NAME', 'SGROUP_NAME','BRAND_CODE']].to_csv('item_first.csv')"
      ],
      "execution_count": null,
      "outputs": []
    },
    {
      "cell_type": "code",
      "metadata": {
        "id": "rSNFmvTXL34b",
        "colab_type": "code",
        "colab": {},
        "outputId": "44ede4a1-1dd0-415a-e821-29ba3cf8000f"
      },
      "source": [
        "items[['ITEM_ID', 'LGROUP_NAME', 'MGROUP_NAME', 'SGROUP_NAME','BRAND_CODE']].info()"
      ],
      "execution_count": null,
      "outputs": [
        {
          "output_type": "stream",
          "text": [
            "<class 'pandas.core.frame.DataFrame'>\n",
            "Int64Index: 3448760 entries, 0 to 697427\n",
            "Data columns (total 5 columns):\n",
            "ITEM_ID        int64\n",
            "LGROUP_NAME    object\n",
            "MGROUP_NAME    object\n",
            "SGROUP_NAME    object\n",
            "BRAND_CODE     int64\n",
            "dtypes: int64(2), object(3)\n",
            "memory usage: 157.9+ MB\n"
          ],
          "name": "stdout"
        }
      ]
    },
    {
      "cell_type": "code",
      "metadata": {
        "scrolled": true,
        "id": "p2MuYSLfL34c",
        "colab_type": "code",
        "colab": {},
        "outputId": "000e2e5f-a88f-4044-c615-183fc4adeb3e"
      },
      "source": [
        "schema = {\n",
        "    \"type\": \"record\",\n",
        "    \"name\": \"Items\",\n",
        "    \"namespace\": \"com.amazonaws.personalize.schema\",\n",
        "    \"fields\": [\n",
        "        {\n",
        "            \"name\": \"ITEM_ID\",\n",
        "            \"type\": \"string\"\n",
        "        },\n",
        "        {\n",
        "            \"name\": \"LGROUP_NAME\",\n",
        "            \"type\": \"string\",\n",
        "            \"categorical\": True\n",
        "        },\n",
        "        {\n",
        "            \"name\": \"MGROUP_NAME\",\n",
        "            \"type\": \"string\",\n",
        "            \"categorical\": True\n",
        "        },\n",
        "        {\n",
        "            \"name\": \"SGROUP_NAME\",\n",
        "            \"type\": \"string\",\n",
        "            \"categorical\": True\n",
        "        },\n",
        "        {\n",
        "            \"name\": \"BRAND_CODE\",\n",
        "            \"type\": \"string\",\n",
        "            \"categorical\": True\n",
        "        }\n",
        "    ],\n",
        "    \"version\": \"1.0\"\n",
        "}\n",
        "\n",
        "create_schema_response = personalize.create_schema(\n",
        "    name = \"items-first\",\n",
        "    schema = json.dumps(schema)\n",
        ")\n",
        "\n",
        "schema_arn = create_schema_response['schemaArn']\n",
        "print(json.dumps(create_schema_response, indent=2))"
      ],
      "execution_count": null,
      "outputs": [
        {
          "output_type": "stream",
          "text": [
            "{\n",
            "  \"schemaArn\": \"arn:aws:personalize:us-west-2:351072964306:schema/items-first\",\n",
            "  \"ResponseMetadata\": {\n",
            "    \"RequestId\": \"596572fd-3d24-4b07-9f45-5868c01480a6\",\n",
            "    \"HTTPStatusCode\": 200,\n",
            "    \"HTTPHeaders\": {\n",
            "      \"content-type\": \"application/x-amz-json-1.1\",\n",
            "      \"date\": \"Wed, 26 Jun 2019 07:11:32 GMT\",\n",
            "      \"x-amzn-requestid\": \"596572fd-3d24-4b07-9f45-5868c01480a6\",\n",
            "      \"content-length\": \"77\",\n",
            "      \"connection\": \"keep-alive\"\n",
            "    },\n",
            "    \"RetryAttempts\": 0\n",
            "  }\n",
            "}\n"
          ],
          "name": "stdout"
        }
      ]
    },
    {
      "cell_type": "code",
      "metadata": {
        "id": "ELafCrFdL34e",
        "colab_type": "code",
        "colab": {},
        "outputId": "f9e97369-cba6-41e0-a2b7-1462bc7ac403"
      },
      "source": [
        "dataset_type = \"ITEMS\"\n",
        "create_dataset_response = personalize.create_dataset(\n",
        "    name = \"item_all_categories\",\n",
        "    datasetType = dataset_type,\n",
        "    datasetGroupArn = dataset_group_arn,\n",
        "    schemaArn = \"arn:aws:personalize:us-west-2:351072964306:schema/items-first\"\n",
        ")\n",
        "\n",
        "dataset_arn = create_dataset_response['datasetArn']\n",
        "print(json.dumps(create_dataset_response, indent=2))"
      ],
      "execution_count": null,
      "outputs": [
        {
          "output_type": "stream",
          "text": [
            "{\n",
            "  \"datasetArn\": \"arn:aws:personalize:us-west-2:351072964306:dataset/hrnn_meta_second_event_type/ITEMS\",\n",
            "  \"ResponseMetadata\": {\n",
            "    \"RequestId\": \"ac95ca1c-49a9-4891-b6ea-27b9c788a3ca\",\n",
            "    \"HTTPStatusCode\": 200,\n",
            "    \"HTTPHeaders\": {\n",
            "      \"content-type\": \"application/x-amz-json-1.1\",\n",
            "      \"date\": \"Thu, 27 Jun 2019 01:51:24 GMT\",\n",
            "      \"x-amzn-requestid\": \"ac95ca1c-49a9-4891-b6ea-27b9c788a3ca\",\n",
            "      \"content-length\": \"101\",\n",
            "      \"connection\": \"keep-alive\"\n",
            "    },\n",
            "    \"RetryAttempts\": 0\n",
            "  }\n",
            "}\n"
          ],
          "name": "stdout"
        }
      ]
    },
    {
      "cell_type": "code",
      "metadata": {
        "id": "Wlq34L3kL34f",
        "colab_type": "code",
        "colab": {}
      },
      "source": [
        "filename = 'item_first.csv'"
      ],
      "execution_count": null,
      "outputs": []
    },
    {
      "cell_type": "code",
      "metadata": {
        "id": "rtVIiceSL34g",
        "colab_type": "code",
        "colab": {}
      },
      "source": [
        "boto3.Session().resource('s3').Bucket(bucket).Object(filename).upload_file(filename)"
      ],
      "execution_count": null,
      "outputs": []
    },
    {
      "cell_type": "code",
      "metadata": {
        "id": "ka2nFrEHL34h",
        "colab_type": "code",
        "colab": {},
        "outputId": "446acd44-4c08-446c-c388-b3b3392ff40d"
      },
      "source": [
        "create_dataset_import_job_response = personalize.create_dataset_import_job(\n",
        "    jobName = \"item-import-job-2\",\n",
        "    datasetArn = \"arn:aws:personalize:us-west-2:351072964306:dataset/hrnn_meta_second_event_type/ITEMS\",\n",
        "    dataSource = {\n",
        "        \"dataLocation\": \"s3://{}/{}\".format(bucket, 'item_first.csv')\n",
        "    },\n",
        "    roleArn = role_arn\n",
        ")\n",
        "\n",
        "dataset_import_job_arn = create_dataset_import_job_response['datasetImportJobArn']\n",
        "print(json.dumps(create_dataset_import_job_response, indent=2))"
      ],
      "execution_count": null,
      "outputs": [
        {
          "output_type": "stream",
          "text": [
            "{\n",
            "  \"datasetImportJobArn\": \"arn:aws:personalize:us-west-2:351072964306:dataset-import-job/item-import-job-2\",\n",
            "  \"ResponseMetadata\": {\n",
            "    \"RequestId\": \"2e548a53-7207-4bbd-9b37-ebb4d5c27b62\",\n",
            "    \"HTTPStatusCode\": 200,\n",
            "    \"HTTPHeaders\": {\n",
            "      \"content-type\": \"application/x-amz-json-1.1\",\n",
            "      \"date\": \"Thu, 27 Jun 2019 01:54:56 GMT\",\n",
            "      \"x-amzn-requestid\": \"2e548a53-7207-4bbd-9b37-ebb4d5c27b62\",\n",
            "      \"content-length\": \"105\",\n",
            "      \"connection\": \"keep-alive\"\n",
            "    },\n",
            "    \"RetryAttempts\": 0\n",
            "  }\n",
            "}\n"
          ],
          "name": "stdout"
        }
      ]
    },
    {
      "cell_type": "markdown",
      "metadata": {
        "id": "A1TMIYlPL34k",
        "colab_type": "text"
      },
      "source": [
        "#### describe dataset_import_job response"
      ]
    },
    {
      "cell_type": "code",
      "metadata": {
        "id": "8o77F874L34l",
        "colab_type": "code",
        "colab": {},
        "outputId": "9997caa3-f046-4afc-b6f5-ba5525fb35ff"
      },
      "source": [
        "status = None\n",
        "max_time = time.time() + 3*60*60\n",
        "while time.time() < max_time:\n",
        "    describe_dataset_import_job_response = personalize.describe_dataset_import_job(\n",
        "    datasetImportJobArn = \"arn:aws:personalize:us-west-2:351072964306:dataset-import-job/interaction-import-job2\"\n",
        "\n",
        "#        dataset_import_job_arn\n",
        "    )\n",
        "    status = describe_dataset_import_job_response[\"datasetImportJob\"]['status']\n",
        "    print(\"DatasetImportJob: {}\".format(status))\n",
        "    \n",
        "    if status == \"ACTIVE\" or status == \"CREATE FAILED\":\n",
        "        break\n",
        "        \n",
        "    time.sleep(60)"
      ],
      "execution_count": null,
      "outputs": [
        {
          "output_type": "stream",
          "text": [
            "DatasetImportJob: ACTIVE\n"
          ],
          "name": "stdout"
        }
      ]
    },
    {
      "cell_type": "code",
      "metadata": {
        "id": "jbPuRQhOL34m",
        "colab_type": "code",
        "colab": {},
        "outputId": "38b3fa84-6236-4a06-da3a-6a1f09307842"
      },
      "source": [
        "describe_dataset_import_job_response = personalize.describe_dataset_import_job(\n",
        "    datasetImportJobArn = \"arn:aws:personalize:us-west-2:351072964306:dataset-import-job/item-import-job-2\"\n",
        ")\n",
        "status = describe_dataset_import_job_response[\"datasetImportJob\"]['status']\n",
        "print(\"DatasetImportJob: {}\".format(status))"
      ],
      "execution_count": null,
      "outputs": [
        {
          "output_type": "stream",
          "text": [
            "DatasetImportJob: CREATE IN_PROGRESS\n"
          ],
          "name": "stdout"
        }
      ]
    },
    {
      "cell_type": "markdown",
      "metadata": {
        "id": "z6FjCWKeL34o",
        "colab_type": "text"
      },
      "source": [
        "### Create Solution"
      ]
    },
    {
      "cell_type": "code",
      "metadata": {
        "id": "Xr2wbNqnL34o",
        "colab_type": "code",
        "colab": {}
      },
      "source": [
        "list_recipes_response = personalize.list_recipes()"
      ],
      "execution_count": null,
      "outputs": []
    },
    {
      "cell_type": "code",
      "metadata": {
        "id": "ErIeuA20L34p",
        "colab_type": "code",
        "colab": {}
      },
      "source": [
        "recipe_arn = \"arn:aws:personalize:::recipe/aws-hrnn-metadata\""
      ],
      "execution_count": null,
      "outputs": []
    },
    {
      "cell_type": "code",
      "metadata": {
        "id": "9ZjVhpv6L34q",
        "colab_type": "code",
        "colab": {},
        "outputId": "b6fef038-85ea-4f7e-ff14-1594f22acbe7"
      },
      "source": [
        "create_solution_response = personalize.create_solution(\n",
        "    name= \"solution-hrnn-meta-second\",\n",
        "    datasetGroupArn = dataset_group_arn,\n",
        "    recipeArn = recipe_arn\n",
        ")\n",
        "solution_arn = create_solution_response['solutionArn']\n",
        "print(json.dumps(create_solution_response, indent=2))"
      ],
      "execution_count": null,
      "outputs": [
        {
          "output_type": "stream",
          "text": [
            "{\n",
            "  \"solutionArn\": \"arn:aws:personalize:us-west-2:351072964306:solution/solution-hrnn-meta-second\",\n",
            "  \"ResponseMetadata\": {\n",
            "    \"RequestId\": \"020080f9-697e-4986-bb48-f2a8530f795e\",\n",
            "    \"HTTPStatusCode\": 200,\n",
            "    \"HTTPHeaders\": {\n",
            "      \"content-type\": \"application/x-amz-json-1.1\",\n",
            "      \"date\": \"Thu, 27 Jun 2019 02:09:09 GMT\",\n",
            "      \"x-amzn-requestid\": \"020080f9-697e-4986-bb48-f2a8530f795e\",\n",
            "      \"content-length\": \"95\",\n",
            "      \"connection\": \"keep-alive\"\n",
            "    },\n",
            "    \"RetryAttempts\": 0\n",
            "  }\n",
            "}\n"
          ],
          "name": "stdout"
        }
      ]
    },
    {
      "cell_type": "code",
      "metadata": {
        "id": "zjGyyPnhL34r",
        "colab_type": "code",
        "colab": {},
        "outputId": "ecdd2eed-dbc2-4ecf-9553-d9f97aaf2d0a"
      },
      "source": [
        "create_solution_version_response = personalize.create_solution_version(\n",
        "    solutionArn = solution_arn)\n",
        "\n",
        "solution_version_arn = create_solution_version_response['solutionVersionArn']\n",
        "print(json.dumps(create_solution_version_response, indent=2))"
      ],
      "execution_count": null,
      "outputs": [
        {
          "output_type": "stream",
          "text": [
            "{\n",
            "  \"solutionVersionArn\": \"arn:aws:personalize:us-west-2:351072964306:solution/solution-hrnn-meta-second/be345216\",\n",
            "  \"ResponseMetadata\": {\n",
            "    \"RequestId\": \"c6d5533a-b4ad-4033-9b4a-c8cc5c4fb183\",\n",
            "    \"HTTPStatusCode\": 200,\n",
            "    \"HTTPHeaders\": {\n",
            "      \"content-type\": \"application/x-amz-json-1.1\",\n",
            "      \"date\": \"Thu, 27 Jun 2019 02:09:15 GMT\",\n",
            "      \"x-amzn-requestid\": \"c6d5533a-b4ad-4033-9b4a-c8cc5c4fb183\",\n",
            "      \"content-length\": \"111\",\n",
            "      \"connection\": \"keep-alive\"\n",
            "    },\n",
            "    \"RetryAttempts\": 0\n",
            "  }\n",
            "}\n"
          ],
          "name": "stdout"
        }
      ]
    },
    {
      "cell_type": "code",
      "metadata": {
        "scrolled": true,
        "id": "uhMMF4Q4L34t",
        "colab_type": "code",
        "colab": {},
        "outputId": "f6865e63-c2da-4088-f82c-ba2214f6add3"
      },
      "source": [
        "status = None\n",
        "max_time = time.time() + 3*60*60\n",
        "while time.time() < max_time:\n",
        "    describe_solution_version_response = personalize.describe_solution_version(\n",
        "        solutionVersionArn = solution_version_arn\n",
        "    )\n",
        "    status = describe_solution_version_response[\"solutionVersion\"][\"status\"]\n",
        "    print(\"SolutionVersion: {}\".format(status))\n",
        "    \n",
        "    if status == \"ACTIVE\" or status == \"CREATE FAILED\":\n",
        "        break\n",
        "        \n",
        "    time.sleep(60)"
      ],
      "execution_count": null,
      "outputs": [
        {
          "output_type": "stream",
          "text": [
            "SolutionVersion: CREATE PENDING\n",
            "SolutionVersion: CREATE IN_PROGRESS\n",
            "SolutionVersion: CREATE IN_PROGRESS\n",
            "SolutionVersion: CREATE IN_PROGRESS\n",
            "SolutionVersion: CREATE IN_PROGRESS\n",
            "SolutionVersion: CREATE IN_PROGRESS\n",
            "SolutionVersion: CREATE IN_PROGRESS\n",
            "SolutionVersion: CREATE IN_PROGRESS\n",
            "SolutionVersion: CREATE IN_PROGRESS\n",
            "SolutionVersion: CREATE IN_PROGRESS\n",
            "SolutionVersion: CREATE IN_PROGRESS\n",
            "SolutionVersion: CREATE IN_PROGRESS\n",
            "SolutionVersion: CREATE IN_PROGRESS\n",
            "SolutionVersion: CREATE IN_PROGRESS\n",
            "SolutionVersion: CREATE IN_PROGRESS\n",
            "SolutionVersion: CREATE IN_PROGRESS\n",
            "SolutionVersion: CREATE IN_PROGRESS\n",
            "SolutionVersion: CREATE IN_PROGRESS\n",
            "SolutionVersion: CREATE IN_PROGRESS\n",
            "SolutionVersion: CREATE IN_PROGRESS\n",
            "SolutionVersion: CREATE IN_PROGRESS\n",
            "SolutionVersion: CREATE IN_PROGRESS\n",
            "SolutionVersion: CREATE IN_PROGRESS\n",
            "SolutionVersion: CREATE IN_PROGRESS\n",
            "SolutionVersion: CREATE IN_PROGRESS\n",
            "SolutionVersion: CREATE IN_PROGRESS\n",
            "SolutionVersion: CREATE IN_PROGRESS\n",
            "SolutionVersion: CREATE IN_PROGRESS\n",
            "SolutionVersion: CREATE IN_PROGRESS\n",
            "SolutionVersion: CREATE IN_PROGRESS\n",
            "SolutionVersion: CREATE IN_PROGRESS\n",
            "SolutionVersion: CREATE IN_PROGRESS\n",
            "SolutionVersion: CREATE IN_PROGRESS\n",
            "SolutionVersion: CREATE IN_PROGRESS\n",
            "SolutionVersion: CREATE IN_PROGRESS\n",
            "SolutionVersion: CREATE IN_PROGRESS\n",
            "SolutionVersion: CREATE IN_PROGRESS\n",
            "SolutionVersion: CREATE IN_PROGRESS\n",
            "SolutionVersion: CREATE IN_PROGRESS\n",
            "SolutionVersion: CREATE IN_PROGRESS\n",
            "SolutionVersion: CREATE IN_PROGRESS\n",
            "SolutionVersion: CREATE IN_PROGRESS\n",
            "SolutionVersion: CREATE IN_PROGRESS\n",
            "SolutionVersion: CREATE IN_PROGRESS\n",
            "SolutionVersion: CREATE IN_PROGRESS\n",
            "SolutionVersion: CREATE IN_PROGRESS\n",
            "SolutionVersion: CREATE IN_PROGRESS\n",
            "SolutionVersion: CREATE IN_PROGRESS\n",
            "SolutionVersion: CREATE IN_PROGRESS\n",
            "SolutionVersion: CREATE IN_PROGRESS\n",
            "SolutionVersion: CREATE IN_PROGRESS\n",
            "SolutionVersion: CREATE IN_PROGRESS\n",
            "SolutionVersion: CREATE IN_PROGRESS\n",
            "SolutionVersion: CREATE IN_PROGRESS\n",
            "SolutionVersion: CREATE IN_PROGRESS\n",
            "SolutionVersion: CREATE IN_PROGRESS\n",
            "SolutionVersion: CREATE IN_PROGRESS\n",
            "SolutionVersion: CREATE IN_PROGRESS\n",
            "SolutionVersion: CREATE IN_PROGRESS\n",
            "SolutionVersion: CREATE IN_PROGRESS\n",
            "SolutionVersion: CREATE IN_PROGRESS\n",
            "SolutionVersion: CREATE IN_PROGRESS\n",
            "SolutionVersion: CREATE IN_PROGRESS\n",
            "SolutionVersion: CREATE IN_PROGRESS\n",
            "SolutionVersion: CREATE IN_PROGRESS\n",
            "SolutionVersion: CREATE IN_PROGRESS\n",
            "SolutionVersion: CREATE IN_PROGRESS\n",
            "SolutionVersion: CREATE IN_PROGRESS\n",
            "SolutionVersion: CREATE IN_PROGRESS\n",
            "SolutionVersion: CREATE IN_PROGRESS\n",
            "SolutionVersion: CREATE IN_PROGRESS\n",
            "SolutionVersion: CREATE IN_PROGRESS\n",
            "SolutionVersion: CREATE IN_PROGRESS\n",
            "SolutionVersion: CREATE IN_PROGRESS\n",
            "SolutionVersion: CREATE IN_PROGRESS\n",
            "SolutionVersion: CREATE IN_PROGRESS\n",
            "SolutionVersion: CREATE IN_PROGRESS\n",
            "SolutionVersion: CREATE IN_PROGRESS\n",
            "SolutionVersion: CREATE IN_PROGRESS\n",
            "SolutionVersion: CREATE IN_PROGRESS\n",
            "SolutionVersion: CREATE IN_PROGRESS\n",
            "SolutionVersion: CREATE IN_PROGRESS\n",
            "SolutionVersion: CREATE IN_PROGRESS\n",
            "SolutionVersion: CREATE IN_PROGRESS\n",
            "SolutionVersion: CREATE IN_PROGRESS\n",
            "SolutionVersion: CREATE IN_PROGRESS\n",
            "SolutionVersion: CREATE IN_PROGRESS\n",
            "SolutionVersion: CREATE IN_PROGRESS\n",
            "SolutionVersion: CREATE IN_PROGRESS\n",
            "SolutionVersion: CREATE IN_PROGRESS\n",
            "SolutionVersion: ACTIVE\n"
          ],
          "name": "stdout"
        }
      ]
    },
    {
      "cell_type": "code",
      "metadata": {
        "scrolled": true,
        "id": "XkiYTxrkL34v",
        "colab_type": "code",
        "colab": {},
        "outputId": "9de26265-4ea0-4be6-9cbc-b86648af435d"
      },
      "source": [
        "get_solution_metrics_response = personalize.get_solution_metrics(\n",
        "    solutionVersionArn = solution_version_arn\n",
        ")\n",
        "\n",
        "print(json.dumps(get_solution_metrics_response, indent=2))"
      ],
      "execution_count": null,
      "outputs": [
        {
          "output_type": "stream",
          "text": [
            "{\n",
            "  \"solutionVersionArn\": \"arn:aws:personalize:us-west-2:351072964306:solution/solution-hrnn-meta-second/be345216\",\n",
            "  \"metrics\": {\n",
            "    \"coverage\": 0.0639,\n",
            "    \"mean_reciprocal_rank_at_25\": 0.139,\n",
            "    \"normalized_discounted_cumulative_gain_at_10\": 0.1788,\n",
            "    \"normalized_discounted_cumulative_gain_at_25\": 0.2036,\n",
            "    \"normalized_discounted_cumulative_gain_at_5\": 0.1588,\n",
            "    \"precision_at_10\": 0.0242,\n",
            "    \"precision_at_25\": 0.0137,\n",
            "    \"precision_at_5\": 0.0367\n",
            "  },\n",
            "  \"ResponseMetadata\": {\n",
            "    \"RequestId\": \"3281a3f2-9bd0-48d7-8f3a-63dac271b6b2\",\n",
            "    \"HTTPStatusCode\": 200,\n",
            "    \"HTTPHeaders\": {\n",
            "      \"content-type\": \"application/x-amz-json-1.1\",\n",
            "      \"date\": \"Thu, 27 Jun 2019 06:07:04 GMT\",\n",
            "      \"x-amzn-requestid\": \"3281a3f2-9bd0-48d7-8f3a-63dac271b6b2\",\n",
            "      \"content-length\": \"408\",\n",
            "      \"connection\": \"keep-alive\"\n",
            "    },\n",
            "    \"RetryAttempts\": 0\n",
            "  }\n",
            "}\n"
          ],
          "name": "stdout"
        }
      ]
    },
    {
      "cell_type": "code",
      "metadata": {
        "id": "BOdf8rXOL34w",
        "colab_type": "code",
        "colab": {}
      },
      "source": [
        "onsale_item = len(df[onsale].GOODS_CODE.unique())"
      ],
      "execution_count": null,
      "outputs": []
    },
    {
      "cell_type": "code",
      "metadata": {
        "id": "3lAp4Kc0L34y",
        "colab_type": "code",
        "colab": {}
      },
      "source": [
        "order_date = df[onsale][['GOODS_CODE','CUST_NO','ORDER_DATE']].set_index(['CUST_NO','GOODS_CODE'])"
      ],
      "execution_count": null,
      "outputs": []
    },
    {
      "cell_type": "code",
      "metadata": {
        "id": "3THCO-o_L340",
        "colab_type": "code",
        "colab": {}
      },
      "source": [
        "order_cleaned = df[onsale][['GOODS_CODE','CUST_NO','ORDER_DATE']].drop_duplicates(subset=['GOODS_CODE','CUST_NO'])"
      ],
      "execution_count": null,
      "outputs": []
    },
    {
      "cell_type": "code",
      "metadata": {
        "id": "8pz6zLLTL341",
        "colab_type": "code",
        "colab": {}
      },
      "source": [
        "order_cleaned.set_index(['CUST_NO','GOODS_CODE']).unstack()"
      ],
      "execution_count": null,
      "outputs": []
    },
    {
      "cell_type": "code",
      "metadata": {
        "id": "cbTaOYTIL343",
        "colab_type": "code",
        "colab": {},
        "outputId": "1c05401d-7017-4060-f2c8-21b4a8aea50b"
      },
      "source": [
        "(len(order_date)/ (onsale_item * len_cust))*100453512"
      ],
      "execution_count": null,
      "outputs": [
        {
          "output_type": "execute_result",
          "data": {
            "text/plain": [
              "0.008259361717457349"
            ]
          },
          "metadata": {
            "tags": []
          },
          "execution_count": 307
        }
      ]
    },
    {
      "cell_type": "code",
      "metadata": {
        "id": "bk50Hjm5L346",
        "colab_type": "code",
        "colab": {},
        "outputId": "e487dca4-4b10-42dd-f421-c33ba9bd3a2d"
      },
      "source": [
        "len(df[df['SALE_GB'] == '진행']['GOODS_CODE'].unique())"
      ],
      "execution_count": null,
      "outputs": [
        {
          "output_type": "execute_result",
          "data": {
            "text/plain": [
              "12339"
            ]
          },
          "metadata": {
            "tags": []
          },
          "execution_count": 48
        }
      ]
    },
    {
      "cell_type": "code",
      "metadata": {
        "id": "9yjUwFgbL347",
        "colab_type": "code",
        "colab": {},
        "outputId": "a9e7ce29-e3bf-4440-836b-92fcf576e28a"
      },
      "source": [
        "df.FIRST_ORDER_DATE.isna().sum()"
      ],
      "execution_count": null,
      "outputs": [
        {
          "output_type": "execute_result",
          "data": {
            "text/plain": [
              "329156"
            ]
          },
          "metadata": {
            "tags": []
          },
          "execution_count": 160
        }
      ]
    },
    {
      "cell_type": "code",
      "metadata": {
        "id": "bxufgZlzL349",
        "colab_type": "code",
        "colab": {}
      },
      "source": [
        "df1 = df.dropna(subset=['FIRST_ORDER_DATE']).copy()"
      ],
      "execution_count": null,
      "outputs": []
    },
    {
      "cell_type": "code",
      "metadata": {
        "id": "-gw8l1uNL34-",
        "colab_type": "code",
        "colab": {},
        "outputId": "ce9f52ad-8f2c-4fbe-a6d3-177ab25eb54b"
      },
      "source": [
        "len(df.ORDER_DATE)"
      ],
      "execution_count": null,
      "outputs": [
        {
          "output_type": "execute_result",
          "data": {
            "text/plain": [
              "3242479"
            ]
          },
          "metadata": {
            "tags": []
          },
          "execution_count": 204
        }
      ]
    },
    {
      "cell_type": "markdown",
      "metadata": {
        "id": "dAOTsJ9UL34_",
        "colab_type": "text"
      },
      "source": [
        " 재구매 고객"
      ]
    },
    {
      "cell_type": "code",
      "metadata": {
        "id": "20gmyJSWL34_",
        "colab_type": "code",
        "colab": {},
        "outputId": "a787d5dc-4a4d-40a8-d6e6-d60d72a30b4c"
      },
      "source": [
        "df.LAST_ORDER_DATE.head()"
      ],
      "execution_count": null,
      "outputs": [
        {
          "output_type": "execute_result",
          "data": {
            "text/plain": [
              "0    2019.1.14\n",
              "1    2019.1.21\n",
              "2    2019.2.15\n",
              "3    2019.1.31\n",
              "4    2019.1.31\n",
              "Name: LAST_ORDER_DATE, dtype: object"
            ]
          },
          "metadata": {
            "tags": []
          },
          "execution_count": 19
        }
      ]
    },
    {
      "cell_type": "code",
      "metadata": {
        "id": "HAfNTMcrL35A",
        "colab_type": "code",
        "colab": {}
      },
      "source": [
        "cust_ret = df[df.LAST_ORDER_DATE != df.ORDER_DATE]"
      ],
      "execution_count": null,
      "outputs": []
    },
    {
      "cell_type": "markdown",
      "metadata": {
        "id": "a1TbE8GvL35E",
        "colab_type": "text"
      },
      "source": [
        "기존 고객"
      ]
    },
    {
      "cell_type": "code",
      "metadata": {
        "id": "v9I-hMO6L35F",
        "colab_type": "code",
        "colab": {},
        "outputId": "3c582113-a1ca-4d8d-d148-e8d3e1982acc"
      },
      "source": [
        "cust_ret.head()"
      ],
      "execution_count": null,
      "outputs": [
        {
          "output_type": "execute_result",
          "data": {
            "text/html": [
              "<div>\n",
              "<style scoped>\n",
              "    .dataframe tbody tr th:only-of-type {\n",
              "        vertical-align: middle;\n",
              "    }\n",
              "\n",
              "    .dataframe tbody tr th {\n",
              "        vertical-align: top;\n",
              "    }\n",
              "\n",
              "    .dataframe thead th {\n",
              "        text-align: right;\n",
              "    }\n",
              "</style>\n",
              "<table border=\"1\" class=\"dataframe\">\n",
              "  <thead>\n",
              "    <tr style=\"text-align: right;\">\n",
              "      <th></th>\n",
              "      <th>ORDER_NO</th>\n",
              "      <th>GOODS_CODE</th>\n",
              "      <th>GOODS_NAME</th>\n",
              "      <th>LGROUP_NAME</th>\n",
              "      <th>MGROUP_NAME</th>\n",
              "      <th>SGROUP_NAME</th>\n",
              "      <th>DGROUP_NAME</th>\n",
              "      <th>SALE_PRICE</th>\n",
              "      <th>SALE_GB</th>\n",
              "      <th>ORDER_DATE</th>\n",
              "      <th>...</th>\n",
              "      <th>BIRTHDAY</th>\n",
              "      <th>SEX</th>\n",
              "      <th>ADDR</th>\n",
              "      <th>CUST_GB_NM</th>\n",
              "      <th>WITHDRAWAL_YN</th>\n",
              "      <th>CUST_INSERT_DATE</th>\n",
              "      <th>INSERT_MEDIA</th>\n",
              "      <th>MEMB_GB</th>\n",
              "      <th>FIRST_ORDER_DATE</th>\n",
              "      <th>LAST_ORDER_DATE</th>\n",
              "    </tr>\n",
              "  </thead>\n",
              "  <tbody>\n",
              "    <tr>\n",
              "      <th>0</th>\n",
              "      <td>20190114221750</td>\n",
              "      <td>10060956</td>\n",
              "      <td>[반값딜] 카밀 핸드크림 클래식 1+1</td>\n",
              "      <td>뷰티</td>\n",
              "      <td>이미용품</td>\n",
              "      <td>바디용품</td>\n",
              "      <td>핸드크림</td>\n",
              "      <td>8500</td>\n",
              "      <td>진행</td>\n",
              "      <td>2019-01-14</td>\n",
              "      <td>...</td>\n",
              "      <td>198006.0</td>\n",
              "      <td>여</td>\n",
              "      <td>강원도/동해시</td>\n",
              "      <td>회원</td>\n",
              "      <td>0</td>\n",
              "      <td>2016.11.19</td>\n",
              "      <td>모바일</td>\n",
              "      <td>일반</td>\n",
              "      <td>2016.11.19 13:56</td>\n",
              "      <td>2019.1.14</td>\n",
              "    </tr>\n",
              "    <tr>\n",
              "      <th>1</th>\n",
              "      <td>20190121274335</td>\n",
              "      <td>10056895</td>\n",
              "      <td>(홀리데이 구성) 엘렌실라 달팽이크림 50g*5개 + EGF크림 50g*5개 + 파...</td>\n",
              "      <td>뷰티</td>\n",
              "      <td>화장품</td>\n",
              "      <td>기초화장품</td>\n",
              "      <td>기초세트</td>\n",
              "      <td>79000</td>\n",
              "      <td>판매중단</td>\n",
              "      <td>2019-01-21</td>\n",
              "      <td>...</td>\n",
              "      <td>197004.0</td>\n",
              "      <td>여</td>\n",
              "      <td>강원도/동해시</td>\n",
              "      <td>회원</td>\n",
              "      <td>0</td>\n",
              "      <td>2016.8.30</td>\n",
              "      <td>ARS자동</td>\n",
              "      <td>일반</td>\n",
              "      <td>2016.8.30 20:09</td>\n",
              "      <td>2019.1.21</td>\n",
              "    </tr>\n",
              "    <tr>\n",
              "      <th>2</th>\n",
              "      <td>20190123337551</td>\n",
              "      <td>10065231</td>\n",
              "      <td>[초특가](여성)험멜 패딩자켓+덕다운베스트 2종 세트</td>\n",
              "      <td>패션</td>\n",
              "      <td>스포츠레저캠핑</td>\n",
              "      <td>스포츠의류</td>\n",
              "      <td>다운/패딩</td>\n",
              "      <td>49000</td>\n",
              "      <td>판매중단</td>\n",
              "      <td>2019-01-23</td>\n",
              "      <td>...</td>\n",
              "      <td>196208.0</td>\n",
              "      <td>여</td>\n",
              "      <td>강원도/동해시</td>\n",
              "      <td>회원</td>\n",
              "      <td>0</td>\n",
              "      <td>2016.5.20</td>\n",
              "      <td>상담사</td>\n",
              "      <td>일반</td>\n",
              "      <td>2016.5.20 17:27</td>\n",
              "      <td>2019.2.15</td>\n",
              "    </tr>\n",
              "    <tr>\n",
              "      <th>3</th>\n",
              "      <td>20190131416677</td>\n",
              "      <td>10065090</td>\n",
              "      <td>(설) 나주고깃간 LA갈비 500g*9팩 (총4.5KG) (N033)</td>\n",
              "      <td>식품</td>\n",
              "      <td>가공식품</td>\n",
              "      <td>축산가공식품</td>\n",
              "      <td>세트</td>\n",
              "      <td>89900</td>\n",
              "      <td>진행</td>\n",
              "      <td>2019-01-31</td>\n",
              "      <td>...</td>\n",
              "      <td>196611.0</td>\n",
              "      <td>여</td>\n",
              "      <td>강원도/동해시</td>\n",
              "      <td>회원</td>\n",
              "      <td>0</td>\n",
              "      <td>2015.8.12</td>\n",
              "      <td>상담사</td>\n",
              "      <td>일반</td>\n",
              "      <td>2015.8.12 13:39</td>\n",
              "      <td>2019.1.31</td>\n",
              "    </tr>\n",
              "    <tr>\n",
              "      <th>4</th>\n",
              "      <td>20190131407599</td>\n",
              "      <td>10060442</td>\n",
              "      <td>2018FW  푸마 웜셀 긴팔형 기모브라탑 4종</td>\n",
              "      <td>패션잡화</td>\n",
              "      <td>언더웨어</td>\n",
              "      <td>여성속옷</td>\n",
              "      <td>내의</td>\n",
              "      <td>69000</td>\n",
              "      <td>판매중단</td>\n",
              "      <td>2019-01-31</td>\n",
              "      <td>...</td>\n",
              "      <td>196611.0</td>\n",
              "      <td>여</td>\n",
              "      <td>강원도/동해시</td>\n",
              "      <td>회원</td>\n",
              "      <td>0</td>\n",
              "      <td>2015.8.12</td>\n",
              "      <td>상담사</td>\n",
              "      <td>일반</td>\n",
              "      <td>2015.8.12 13:39</td>\n",
              "      <td>2019.1.31</td>\n",
              "    </tr>\n",
              "  </tbody>\n",
              "</table>\n",
              "<p>5 rows × 31 columns</p>\n",
              "</div>"
            ],
            "text/plain": [
              "         ORDER_NO  GOODS_CODE  \\\n",
              "0  20190114221750    10060956   \n",
              "1  20190121274335    10056895   \n",
              "2  20190123337551    10065231   \n",
              "3  20190131416677    10065090   \n",
              "4  20190131407599    10060442   \n",
              "\n",
              "                                          GOODS_NAME LGROUP_NAME MGROUP_NAME  \\\n",
              "0                              [반값딜] 카밀 핸드크림 클래식 1+1          뷰티        이미용품   \n",
              "1  (홀리데이 구성) 엘렌실라 달팽이크림 50g*5개 + EGF크림 50g*5개 + 파...          뷰티         화장품   \n",
              "2                      [초특가](여성)험멜 패딩자켓+덕다운베스트 2종 세트          패션     스포츠레저캠핑   \n",
              "3             (설) 나주고깃간 LA갈비 500g*9팩 (총4.5KG) (N033)          식품        가공식품   \n",
              "4                         2018FW  푸마 웜셀 긴팔형 기모브라탑 4종        패션잡화        언더웨어   \n",
              "\n",
              "  SGROUP_NAME DGROUP_NAME  SALE_PRICE SALE_GB  ORDER_DATE  ...  BIRTHDAY SEX  \\\n",
              "0        바디용품        핸드크림        8500      진행  2019-01-14  ...  198006.0   여   \n",
              "1       기초화장품        기초세트       79000    판매중단  2019-01-21  ...  197004.0   여   \n",
              "2       스포츠의류       다운/패딩       49000    판매중단  2019-01-23  ...  196208.0   여   \n",
              "3      축산가공식품          세트       89900      진행  2019-01-31  ...  196611.0   여   \n",
              "4        여성속옷          내의       69000    판매중단  2019-01-31  ...  196611.0   여   \n",
              "\n",
              "      ADDR CUST_GB_NM  WITHDRAWAL_YN  CUST_INSERT_DATE  INSERT_MEDIA  MEMB_GB  \\\n",
              "0  강원도/동해시         회원              0        2016.11.19           모바일       일반   \n",
              "1  강원도/동해시         회원              0         2016.8.30         ARS자동       일반   \n",
              "2  강원도/동해시         회원              0         2016.5.20           상담사       일반   \n",
              "3  강원도/동해시         회원              0         2015.8.12           상담사       일반   \n",
              "4  강원도/동해시         회원              0         2015.8.12           상담사       일반   \n",
              "\n",
              "   FIRST_ORDER_DATE  LAST_ORDER_DATE  \n",
              "0  2016.11.19 13:56        2019.1.14  \n",
              "1   2016.8.30 20:09        2019.1.21  \n",
              "2   2016.5.20 17:27        2019.2.15  \n",
              "3   2015.8.12 13:39        2019.1.31  \n",
              "4   2015.8.12 13:39        2019.1.31  \n",
              "\n",
              "[5 rows x 31 columns]"
            ]
          },
          "metadata": {
            "tags": []
          },
          "execution_count": 21
        }
      ]
    },
    {
      "cell_type": "code",
      "metadata": {
        "id": "JeceF30DL35G",
        "colab_type": "code",
        "colab": {}
      },
      "source": [
        "cust_old = df1[df1.LAST_ORDER_DATE != df1.FIRST_ORDER_DATE]"
      ],
      "execution_count": null,
      "outputs": []
    },
    {
      "cell_type": "code",
      "metadata": {
        "scrolled": false,
        "id": "RxZjzlUlL35I",
        "colab_type": "code",
        "colab": {},
        "outputId": "a79e0699-6740-43cb-ac68-d0feabb7c430"
      },
      "source": [
        "print(len(cust_ret.CUST_NO.unique()))"
      ],
      "execution_count": null,
      "outputs": [
        {
          "output_type": "error",
          "ename": "NameError",
          "evalue": "name 'cust_ret' is not defined",
          "traceback": [
            "\u001b[0;31m---------------------------------------------------------------------------\u001b[0m",
            "\u001b[0;31mNameError\u001b[0m                                 Traceback (most recent call last)",
            "\u001b[0;32m<ipython-input-3-0a1ce7420117>\u001b[0m in \u001b[0;36m<module>\u001b[0;34m\u001b[0m\n\u001b[0;32m----> 1\u001b[0;31m \u001b[0mprint\u001b[0m\u001b[0;34m(\u001b[0m\u001b[0mlen\u001b[0m\u001b[0;34m(\u001b[0m\u001b[0mcust_ret\u001b[0m\u001b[0;34m.\u001b[0m\u001b[0mCUST_NO\u001b[0m\u001b[0;34m.\u001b[0m\u001b[0munique\u001b[0m\u001b[0;34m(\u001b[0m\u001b[0;34m)\u001b[0m\u001b[0;34m)\u001b[0m\u001b[0;34m)\u001b[0m\u001b[0;34m\u001b[0m\u001b[0;34m\u001b[0m\u001b[0m\n\u001b[0m",
            "\u001b[0;31mNameError\u001b[0m: name 'cust_ret' is not defined"
          ]
        }
      ]
    },
    {
      "cell_type": "code",
      "metadata": {
        "id": "nAe1guQgL35K",
        "colab_type": "code",
        "colab": {},
        "outputId": "925fdbe3-05f8-49cc-9606-8a8565d8d106"
      },
      "source": [
        "print(len(cust_old.CUST_NO.unique()))"
      ],
      "execution_count": null,
      "outputs": [
        {
          "output_type": "stream",
          "text": [
            "1154466\n"
          ],
          "name": "stdout"
        }
      ]
    },
    {
      "cell_type": "code",
      "metadata": {
        "id": "V8EWehfOL35L",
        "colab_type": "code",
        "colab": {},
        "outputId": "eee4adf2-66fd-4d5f-e22a-8e0428014c5e"
      },
      "source": [
        "(cust_ret.LAST_ORDER_DATE - cust_ret.ORDER_DATE).astype('timedelta64[D]').sum()/cust_ret.shape[0]"
      ],
      "execution_count": null,
      "outputs": [
        {
          "output_type": "execute_result",
          "data": {
            "text/plain": [
              "49.25108501865604"
            ]
          },
          "metadata": {
            "tags": []
          },
          "execution_count": 243
        }
      ]
    },
    {
      "cell_type": "code",
      "metadata": {
        "id": "jO2RKKT6L35M",
        "colab_type": "code",
        "colab": {},
        "outputId": "c63079f3-6392-4ad0-85cb-0b6714f0cb2c"
      },
      "source": [
        "(df_re.LAST_ORDER_DATE - df_re.FIRST_ORDER_DATE).astype('timedelta64[D]').sum()/2280863"
      ],
      "execution_count": null,
      "outputs": [
        {
          "output_type": "execute_result",
          "data": {
            "text/plain": [
              "574.5952843287826"
            ]
          },
          "metadata": {
            "tags": []
          },
          "execution_count": 168
        }
      ]
    },
    {
      "cell_type": "code",
      "metadata": {
        "id": "LXxBiPJYL35N",
        "colab_type": "code",
        "colab": {},
        "outputId": "8cc95d6a-4cc8-44b6-89a6-9da509575c0a"
      },
      "source": [
        "(cust_ret.LAST_ORDER_DATE - cust_ret.ORDER_DATE).astype('timedelta64[D]').hist(bins=np.arange(0,150,15))\n",
        "plt.xlim(0,)"
      ],
      "execution_count": null,
      "outputs": [
        {
          "output_type": "execute_result",
          "data": {
            "text/plain": [
              "(0, 141.75)"
            ]
          },
          "metadata": {
            "tags": []
          },
          "execution_count": 276
        },
        {
          "output_type": "display_data",
          "data": {
            "image/png": "[encoded data removed]",
            "text/plain": [
              "<Figure size 432x288 with 1 Axes>"
            ]
          },
          "metadata": {
            "tags": [],
            "needs_background": "light"
          }
        }
      ]
    },
    {
      "cell_type": "code",
      "metadata": {
        "collapsed": true,
        "id": "BSEPH3VgL35O",
        "colab_type": "code",
        "colab": {},
        "outputId": "a505b41c-ce77-4fe9-a004-a0193209e53f"
      },
      "source": [
        "cust_ret_clean = cust_ret[(cust_ret.LAST_ORDER_DATE - cust_ret.ORDER_DATE).astype('timedelta64[D]') > 0]"
      ],
      "execution_count": null,
      "outputs": [
        {
          "output_type": "error",
          "ename": "TypeError",
          "evalue": "unsupported operand type(s) for -: 'str' and 'str'",
          "traceback": [
            "\u001b[0;31m---------------------------------------------------------------------------\u001b[0m",
            "\u001b[0;31mTypeError\u001b[0m                                 Traceback (most recent call last)",
            "\u001b[0;32m~/anaconda3/lib/python3.7/site-packages/pandas/core/ops.py\u001b[0m in \u001b[0;36mna_op\u001b[0;34m(x, y)\u001b[0m\n\u001b[1;32m   1504\u001b[0m         \u001b[0;32mtry\u001b[0m\u001b[0;34m:\u001b[0m\u001b[0;34m\u001b[0m\u001b[0;34m\u001b[0m\u001b[0m\n\u001b[0;32m-> 1505\u001b[0;31m             \u001b[0mresult\u001b[0m \u001b[0;34m=\u001b[0m \u001b[0mexpressions\u001b[0m\u001b[0;34m.\u001b[0m\u001b[0mevaluate\u001b[0m\u001b[0;34m(\u001b[0m\u001b[0mop\u001b[0m\u001b[0;34m,\u001b[0m \u001b[0mstr_rep\u001b[0m\u001b[0;34m,\u001b[0m \u001b[0mx\u001b[0m\u001b[0;34m,\u001b[0m \u001b[0my\u001b[0m\u001b[0;34m,\u001b[0m \u001b[0;34m**\u001b[0m\u001b[0meval_kwargs\u001b[0m\u001b[0;34m)\u001b[0m\u001b[0;34m\u001b[0m\u001b[0;34m\u001b[0m\u001b[0m\n\u001b[0m\u001b[1;32m   1506\u001b[0m         \u001b[0;32mexcept\u001b[0m \u001b[0mTypeError\u001b[0m\u001b[0;34m:\u001b[0m\u001b[0;34m\u001b[0m\u001b[0;34m\u001b[0m\u001b[0m\n",
            "\u001b[0;32m~/anaconda3/lib/python3.7/site-packages/pandas/core/computation/expressions.py\u001b[0m in \u001b[0;36mevaluate\u001b[0;34m(op, op_str, a, b, use_numexpr, **eval_kwargs)\u001b[0m\n\u001b[1;32m    207\u001b[0m     \u001b[0;32mif\u001b[0m \u001b[0muse_numexpr\u001b[0m\u001b[0;34m:\u001b[0m\u001b[0;34m\u001b[0m\u001b[0;34m\u001b[0m\u001b[0m\n\u001b[0;32m--> 208\u001b[0;31m         \u001b[0;32mreturn\u001b[0m \u001b[0m_evaluate\u001b[0m\u001b[0;34m(\u001b[0m\u001b[0mop\u001b[0m\u001b[0;34m,\u001b[0m \u001b[0mop_str\u001b[0m\u001b[0;34m,\u001b[0m \u001b[0ma\u001b[0m\u001b[0;34m,\u001b[0m \u001b[0mb\u001b[0m\u001b[0;34m,\u001b[0m \u001b[0;34m**\u001b[0m\u001b[0meval_kwargs\u001b[0m\u001b[0;34m)\u001b[0m\u001b[0;34m\u001b[0m\u001b[0;34m\u001b[0m\u001b[0m\n\u001b[0m\u001b[1;32m    209\u001b[0m     \u001b[0;32mreturn\u001b[0m \u001b[0m_evaluate_standard\u001b[0m\u001b[0;34m(\u001b[0m\u001b[0mop\u001b[0m\u001b[0;34m,\u001b[0m \u001b[0mop_str\u001b[0m\u001b[0;34m,\u001b[0m \u001b[0ma\u001b[0m\u001b[0;34m,\u001b[0m \u001b[0mb\u001b[0m\u001b[0;34m)\u001b[0m\u001b[0;34m\u001b[0m\u001b[0;34m\u001b[0m\u001b[0m\n",
            "\u001b[0;32m~/anaconda3/lib/python3.7/site-packages/pandas/core/computation/expressions.py\u001b[0m in \u001b[0;36m_evaluate_numexpr\u001b[0;34m(op, op_str, a, b, truediv, reversed, **eval_kwargs)\u001b[0m\n\u001b[1;32m    122\u001b[0m     \u001b[0;32mif\u001b[0m \u001b[0mresult\u001b[0m \u001b[0;32mis\u001b[0m \u001b[0;32mNone\u001b[0m\u001b[0;34m:\u001b[0m\u001b[0;34m\u001b[0m\u001b[0;34m\u001b[0m\u001b[0m\n\u001b[0;32m--> 123\u001b[0;31m         \u001b[0mresult\u001b[0m \u001b[0;34m=\u001b[0m \u001b[0m_evaluate_standard\u001b[0m\u001b[0;34m(\u001b[0m\u001b[0mop\u001b[0m\u001b[0;34m,\u001b[0m \u001b[0mop_str\u001b[0m\u001b[0;34m,\u001b[0m \u001b[0ma\u001b[0m\u001b[0;34m,\u001b[0m \u001b[0mb\u001b[0m\u001b[0;34m)\u001b[0m\u001b[0;34m\u001b[0m\u001b[0;34m\u001b[0m\u001b[0m\n\u001b[0m\u001b[1;32m    124\u001b[0m \u001b[0;34m\u001b[0m\u001b[0m\n",
            "\u001b[0;32m~/anaconda3/lib/python3.7/site-packages/pandas/core/computation/expressions.py\u001b[0m in \u001b[0;36m_evaluate_standard\u001b[0;34m(op, op_str, a, b, **eval_kwargs)\u001b[0m\n\u001b[1;32m     67\u001b[0m     \u001b[0;32mwith\u001b[0m \u001b[0mnp\u001b[0m\u001b[0;34m.\u001b[0m\u001b[0merrstate\u001b[0m\u001b[0;34m(\u001b[0m\u001b[0mall\u001b[0m\u001b[0;34m=\u001b[0m\u001b[0;34m'ignore'\u001b[0m\u001b[0;34m)\u001b[0m\u001b[0;34m:\u001b[0m\u001b[0;34m\u001b[0m\u001b[0;34m\u001b[0m\u001b[0m\n\u001b[0;32m---> 68\u001b[0;31m         \u001b[0;32mreturn\u001b[0m \u001b[0mop\u001b[0m\u001b[0;34m(\u001b[0m\u001b[0ma\u001b[0m\u001b[0;34m,\u001b[0m \u001b[0mb\u001b[0m\u001b[0;34m)\u001b[0m\u001b[0;34m\u001b[0m\u001b[0;34m\u001b[0m\u001b[0m\n\u001b[0m\u001b[1;32m     69\u001b[0m \u001b[0;34m\u001b[0m\u001b[0m\n",
            "\u001b[0;31mTypeError\u001b[0m: unsupported operand type(s) for -: 'str' and 'str'",
            "\nDuring handling of the above exception, another exception occurred:\n",
            "\u001b[0;31mTypeError\u001b[0m                                 Traceback (most recent call last)",
            "\u001b[0;32m~/anaconda3/lib/python3.7/site-packages/pandas/core/ops.py\u001b[0m in \u001b[0;36msafe_na_op\u001b[0;34m(lvalues, rvalues)\u001b[0m\n\u001b[1;32m   1528\u001b[0m             \u001b[0;32mwith\u001b[0m \u001b[0mnp\u001b[0m\u001b[0;34m.\u001b[0m\u001b[0merrstate\u001b[0m\u001b[0;34m(\u001b[0m\u001b[0mall\u001b[0m\u001b[0;34m=\u001b[0m\u001b[0;34m'ignore'\u001b[0m\u001b[0;34m)\u001b[0m\u001b[0;34m:\u001b[0m\u001b[0;34m\u001b[0m\u001b[0;34m\u001b[0m\u001b[0m\n\u001b[0;32m-> 1529\u001b[0;31m                 \u001b[0;32mreturn\u001b[0m \u001b[0mna_op\u001b[0m\u001b[0;34m(\u001b[0m\u001b[0mlvalues\u001b[0m\u001b[0;34m,\u001b[0m \u001b[0mrvalues\u001b[0m\u001b[0;34m)\u001b[0m\u001b[0;34m\u001b[0m\u001b[0;34m\u001b[0m\u001b[0m\n\u001b[0m\u001b[1;32m   1530\u001b[0m         \u001b[0;32mexcept\u001b[0m \u001b[0mException\u001b[0m\u001b[0;34m:\u001b[0m\u001b[0;34m\u001b[0m\u001b[0;34m\u001b[0m\u001b[0m\n",
            "\u001b[0;32m~/anaconda3/lib/python3.7/site-packages/pandas/core/ops.py\u001b[0m in \u001b[0;36mna_op\u001b[0;34m(x, y)\u001b[0m\n\u001b[1;32m   1506\u001b[0m         \u001b[0;32mexcept\u001b[0m \u001b[0mTypeError\u001b[0m\u001b[0;34m:\u001b[0m\u001b[0;34m\u001b[0m\u001b[0;34m\u001b[0m\u001b[0m\n\u001b[0;32m-> 1507\u001b[0;31m             \u001b[0mresult\u001b[0m \u001b[0;34m=\u001b[0m \u001b[0mmasked_arith_op\u001b[0m\u001b[0;34m(\u001b[0m\u001b[0mx\u001b[0m\u001b[0;34m,\u001b[0m \u001b[0my\u001b[0m\u001b[0;34m,\u001b[0m \u001b[0mop\u001b[0m\u001b[0;34m)\u001b[0m\u001b[0;34m\u001b[0m\u001b[0;34m\u001b[0m\u001b[0m\n\u001b[0m\u001b[1;32m   1508\u001b[0m \u001b[0;34m\u001b[0m\u001b[0m\n",
            "\u001b[0;32m~/anaconda3/lib/python3.7/site-packages/pandas/core/ops.py\u001b[0m in \u001b[0;36mmasked_arith_op\u001b[0;34m(x, y, op)\u001b[0m\n\u001b[1;32m   1008\u001b[0m                 result[mask] = op(xrav[mask],\n\u001b[0;32m-> 1009\u001b[0;31m                                   com.values_from_object(yrav[mask]))\n\u001b[0m\u001b[1;32m   1010\u001b[0m \u001b[0;34m\u001b[0m\u001b[0m\n",
            "\u001b[0;31mTypeError\u001b[0m: unsupported operand type(s) for -: 'str' and 'str'",
            "\nDuring handling of the above exception, another exception occurred:\n",
            "\u001b[0;31mTypeError\u001b[0m                                 Traceback (most recent call last)",
            "\u001b[0;32m<ipython-input-22-57e137aa2f9f>\u001b[0m in \u001b[0;36m<module>\u001b[0;34m\u001b[0m\n\u001b[0;32m----> 1\u001b[0;31m \u001b[0mcust_ret_clean\u001b[0m \u001b[0;34m=\u001b[0m \u001b[0mcust_ret\u001b[0m\u001b[0;34m[\u001b[0m\u001b[0;34m(\u001b[0m\u001b[0mcust_ret\u001b[0m\u001b[0;34m.\u001b[0m\u001b[0mLAST_ORDER_DATE\u001b[0m \u001b[0;34m-\u001b[0m \u001b[0mcust_ret\u001b[0m\u001b[0;34m.\u001b[0m\u001b[0mORDER_DATE\u001b[0m\u001b[0;34m)\u001b[0m\u001b[0;34m.\u001b[0m\u001b[0mastype\u001b[0m\u001b[0;34m(\u001b[0m\u001b[0;34m'timedelta64[D]'\u001b[0m\u001b[0;34m)\u001b[0m \u001b[0;34m>\u001b[0m \u001b[0;36m0\u001b[0m\u001b[0;34m]\u001b[0m\u001b[0;34m\u001b[0m\u001b[0;34m\u001b[0m\u001b[0m\n\u001b[0m",
            "\u001b[0;32m~/anaconda3/lib/python3.7/site-packages/pandas/core/ops.py\u001b[0m in \u001b[0;36mwrapper\u001b[0;34m(left, right)\u001b[0m\n\u001b[1;32m   1581\u001b[0m             \u001b[0mrvalues\u001b[0m \u001b[0;34m=\u001b[0m \u001b[0mrvalues\u001b[0m\u001b[0;34m.\u001b[0m\u001b[0mvalues\u001b[0m\u001b[0;34m\u001b[0m\u001b[0;34m\u001b[0m\u001b[0m\n\u001b[1;32m   1582\u001b[0m \u001b[0;34m\u001b[0m\u001b[0m\n\u001b[0;32m-> 1583\u001b[0;31m         \u001b[0mresult\u001b[0m \u001b[0;34m=\u001b[0m \u001b[0msafe_na_op\u001b[0m\u001b[0;34m(\u001b[0m\u001b[0mlvalues\u001b[0m\u001b[0;34m,\u001b[0m \u001b[0mrvalues\u001b[0m\u001b[0;34m)\u001b[0m\u001b[0;34m\u001b[0m\u001b[0;34m\u001b[0m\u001b[0m\n\u001b[0m\u001b[1;32m   1584\u001b[0m         return construct_result(left, result,\n\u001b[1;32m   1585\u001b[0m                                 index=left.index, name=res_name, dtype=None)\n",
            "\u001b[0;32m~/anaconda3/lib/python3.7/site-packages/pandas/core/ops.py\u001b[0m in \u001b[0;36msafe_na_op\u001b[0;34m(lvalues, rvalues)\u001b[0m\n\u001b[1;32m   1531\u001b[0m             \u001b[0;32mif\u001b[0m \u001b[0mis_object_dtype\u001b[0m\u001b[0;34m(\u001b[0m\u001b[0mlvalues\u001b[0m\u001b[0;34m)\u001b[0m\u001b[0;34m:\u001b[0m\u001b[0;34m\u001b[0m\u001b[0;34m\u001b[0m\u001b[0m\n\u001b[1;32m   1532\u001b[0m                 return libalgos.arrmap_object(lvalues,\n\u001b[0;32m-> 1533\u001b[0;31m                                               lambda x: op(x, rvalues))\n\u001b[0m\u001b[1;32m   1534\u001b[0m             \u001b[0;32mraise\u001b[0m\u001b[0;34m\u001b[0m\u001b[0;34m\u001b[0m\u001b[0m\n\u001b[1;32m   1535\u001b[0m \u001b[0;34m\u001b[0m\u001b[0m\n",
            "\u001b[0;32mpandas/_libs/algos.pyx\u001b[0m in \u001b[0;36mpandas._libs.algos.arrmap\u001b[0;34m()\u001b[0m\n",
            "\u001b[0;32m~/anaconda3/lib/python3.7/site-packages/pandas/core/ops.py\u001b[0m in \u001b[0;36m<lambda>\u001b[0;34m(x)\u001b[0m\n\u001b[1;32m   1531\u001b[0m             \u001b[0;32mif\u001b[0m \u001b[0mis_object_dtype\u001b[0m\u001b[0;34m(\u001b[0m\u001b[0mlvalues\u001b[0m\u001b[0;34m)\u001b[0m\u001b[0;34m:\u001b[0m\u001b[0;34m\u001b[0m\u001b[0;34m\u001b[0m\u001b[0m\n\u001b[1;32m   1532\u001b[0m                 return libalgos.arrmap_object(lvalues,\n\u001b[0;32m-> 1533\u001b[0;31m                                               lambda x: op(x, rvalues))\n\u001b[0m\u001b[1;32m   1534\u001b[0m             \u001b[0;32mraise\u001b[0m\u001b[0;34m\u001b[0m\u001b[0;34m\u001b[0m\u001b[0m\n\u001b[1;32m   1535\u001b[0m \u001b[0;34m\u001b[0m\u001b[0m\n",
            "\u001b[0;31mTypeError\u001b[0m: unsupported operand type(s) for -: 'str' and 'str'"
          ]
        }
      ]
    },
    {
      "cell_type": "code",
      "metadata": {
        "id": "L-mN6elLL35R",
        "colab_type": "code",
        "colab": {},
        "outputId": "09a1288b-33ad-457b-c2ec-540c015620f5"
      },
      "source": [
        "(cust_ret_clean.LAST_ORDER_DATE - cust_ret_clean.ORDER_DATE).astype('timedelta64[D]').value_counts().to_csv('return_cust.csv')"
      ],
      "execution_count": null,
      "outputs": [
        {
          "output_type": "stream",
          "text": [
            "/Users/user/anaconda3/lib/python3.7/site-packages/ipykernel_launcher.py:1: FutureWarning: The signature of `Series.to_csv` was aligned to that of `DataFrame.to_csv`, and argument 'header' will change its default value from False to True: please pass an explicit value to suppress this warning.\n",
            "  \"\"\"Entry point for launching an IPython kernel.\n"
          ],
          "name": "stderr"
        }
      ]
    },
    {
      "cell_type": "code",
      "metadata": {
        "id": "x9NcdqiqL35S",
        "colab_type": "code",
        "colab": {},
        "outputId": "6b7e20cf-cf34-4dd1-e14e-bc1b101ffe78"
      },
      "source": [
        "(cust_ret_clean.LAST_ORDER_DATE - cust_ret_clean.ORDER_DATE).astype('timedelta64[D]').value_counts(bins=np.arange(0,150,15))"
      ],
      "execution_count": null,
      "outputs": [
        {
          "output_type": "execute_result",
          "data": {
            "text/plain": [
              "(-0.001, 15.0]    213431\n",
              "(15.0, 30.0]      171852\n",
              "(30.0, 45.0]      157144\n",
              "(45.0, 60.0]      138576\n",
              "(60.0, 75.0]      118003\n",
              "(75.0, 90.0]       93044\n",
              "(90.0, 105.0]      73499\n",
              "(105.0, 120.0]     54327\n",
              "(120.0, 135.0]     29195\n",
              "dtype: int64"
            ]
          },
          "metadata": {
            "tags": []
          },
          "execution_count": 275
        }
      ]
    },
    {
      "cell_type": "code",
      "metadata": {
        "id": "GBadEVf7L35U",
        "colab_type": "code",
        "colab": {},
        "outputId": "13a19e67-0e75-44b3-f17f-87d18b36a40a"
      },
      "source": [
        "cust_ret_clean['GOODS_NAME'].value_counts()"
      ],
      "execution_count": null,
      "outputs": [
        {
          "output_type": "error",
          "ename": "NameError",
          "evalue": "name 'cust_ret_clean' is not defined",
          "traceback": [
            "\u001b[0;31m---------------------------------------------------------------------------\u001b[0m",
            "\u001b[0;31mNameError\u001b[0m                                 Traceback (most recent call last)",
            "\u001b[0;32m<ipython-input-6-e2cbe0a01879>\u001b[0m in \u001b[0;36m<module>\u001b[0;34m\u001b[0m\n\u001b[0;32m----> 1\u001b[0;31m \u001b[0mcust_ret_clean\u001b[0m\u001b[0;34m[\u001b[0m\u001b[0;34m'GOODS_NAME'\u001b[0m\u001b[0;34m]\u001b[0m\u001b[0;34m.\u001b[0m\u001b[0mvalue_counts\u001b[0m\u001b[0;34m(\u001b[0m\u001b[0;34m)\u001b[0m\u001b[0;34m\u001b[0m\u001b[0;34m\u001b[0m\u001b[0m\n\u001b[0m",
            "\u001b[0;31mNameError\u001b[0m: name 'cust_ret_clean' is not defined"
          ]
        }
      ]
    },
    {
      "cell_type": "code",
      "metadata": {
        "id": "uF70QKwUL35W",
        "colab_type": "code",
        "colab": {},
        "outputId": "07f0715c-d625-4e86-8841-94b66487b63b"
      },
      "source": [
        "df['GOODS_NAME'].value_counts()[:20].to_csv('value_count_top20.csv', encoding='korean')"
      ],
      "execution_count": null,
      "outputs": [
        {
          "output_type": "stream",
          "text": [
            "/Users/user/anaconda3/lib/python3.7/site-packages/ipykernel_launcher.py:1: FutureWarning: The signature of `Series.to_csv` was aligned to that of `DataFrame.to_csv`, and argument 'header' will change its default value from False to True: please pass an explicit value to suppress this warning.\n",
            "  \"\"\"Entry point for launching an IPython kernel.\n"
          ],
          "name": "stderr"
        }
      ]
    },
    {
      "cell_type": "code",
      "metadata": {
        "id": "FT5Y3ko1L35X",
        "colab_type": "code",
        "colab": {}
      },
      "source": [
        "top_20_items = df['GOODS_NAME'].value_counts().index[:20]"
      ],
      "execution_count": null,
      "outputs": []
    },
    {
      "cell_type": "code",
      "metadata": {
        "id": "XE_c2iIEL35Y",
        "colab_type": "code",
        "colab": {}
      },
      "source": [
        "top_20_df = df.set_index('GOODS_NAME').loc[top_20_items]"
      ],
      "execution_count": null,
      "outputs": []
    },
    {
      "cell_type": "code",
      "metadata": {
        "id": "ZrtCvF0KL35a",
        "colab_type": "code",
        "colab": {}
      },
      "source": [
        "top_20_df = top_20_df.reset_index().drop_duplicates(subset='GOODS_NAME')"
      ],
      "execution_count": null,
      "outputs": []
    },
    {
      "cell_type": "code",
      "metadata": {
        "id": "B45Jgbg4L35b",
        "colab_type": "code",
        "colab": {}
      },
      "source": [
        "top_20_df.iloc[:, [0,3,4,5,6,8]].to_csv('top_20_df.csv', encoding='korean')"
      ],
      "execution_count": null,
      "outputs": []
    },
    {
      "cell_type": "code",
      "metadata": {
        "id": "LvQscQptL35c",
        "colab_type": "code",
        "colab": {},
        "outputId": "f52e115f-8d50-4160-b4b5-641943c008ea"
      },
      "source": [
        "top_20_df.columns"
      ],
      "execution_count": null,
      "outputs": [
        {
          "output_type": "execute_result",
          "data": {
            "text/plain": [
              "Index(['GOODS_NAME', 'ORDER_NO', 'GOODS_CODE', 'LGROUP_NAME', 'MGROUP_NAME',\n",
              "       'SGROUP_NAME', 'DGROUP_NAME', 'SALE_PRICE', 'SALE_GB', 'ORDER_DATE',\n",
              "       '방송주문여부', 'ORDER_MEDIA', 'SETTLE_NAME', 'CARD_NAME', 'DC_ARS',\n",
              "       'DC_NOREST', 'DC_GOODS', 'DC_COUPON', 'DC_AMT_PARTNER', 'RSALE_AMT',\n",
              "       'CUST_NO', 'BIRTHDAY', 'SEX', 'ADDR', 'CUST_GB_NM', 'WITHDRAWAL_YN',\n",
              "       'CUST_INSERT_DATE', 'INSERT_MEDIA', 'MEMB_GB', 'FIRST_ORDER_DATE',\n",
              "       'LAST_ORDER_DATE'],\n",
              "      dtype='object')"
            ]
          },
          "metadata": {
            "tags": []
          },
          "execution_count": 63
        }
      ]
    },
    {
      "cell_type": "code",
      "metadata": {
        "scrolled": true,
        "id": "OBxf_54kL35d",
        "colab_type": "code",
        "colab": {},
        "outputId": "a8067858-e3f8-40a4-cfb2-8086fdf72c6c"
      },
      "source": [
        "cust_ret_clean['GOODS_NAME'].value_counts()[:10].plot(kind='bar')"
      ],
      "execution_count": null,
      "outputs": [
        {
          "output_type": "execute_result",
          "data": {
            "text/plain": [
              "<matplotlib.axes._subplots.AxesSubplot at 0x56d3f1390>"
            ]
          },
          "metadata": {
            "tags": []
          },
          "execution_count": 333
        },
        {
          "output_type": "display_data",
          "data": {
            "image/png": "[encoded data removed]",
            "text/plain": [
              "<Figure size 432x288 with 1 Axes>"
            ]
          },
          "metadata": {
            "tags": [],
            "needs_background": "light"
          }
        }
      ]
    },
    {
      "cell_type": "code",
      "metadata": {
        "id": "ZpZpgucrL35e",
        "colab_type": "code",
        "colab": {}
      },
      "source": [
        ""
      ],
      "execution_count": null,
      "outputs": []
    }
  ]
}